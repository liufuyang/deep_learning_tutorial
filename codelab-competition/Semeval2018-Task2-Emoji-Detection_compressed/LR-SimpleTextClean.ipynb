{
 "cells": [
  {
   "cell_type": "code",
   "execution_count": 18,
   "metadata": {},
   "outputs": [],
   "source": [
    "import numpy as np\n",
    "\n",
    "from utils import load_data\n",
    "\n",
    "from sklearn.feature_extraction.text import CountVectorizer\n",
    "from sklearn.feature_extraction.text import TfidfTransformer\n",
    "from sklearn import linear_model\n",
    "from sklearn.metrics import precision_recall_fscore_support\n",
    "from sklearn.metrics import classification_report"
   ]
  },
  {
   "cell_type": "code",
   "execution_count": 2,
   "metadata": {},
   "outputs": [
    {
     "name": "stdout",
     "output_type": "stream",
     "text": [
      "count 374503\n",
      "count \\n 374627\n",
      "374503\n"
     ]
    }
   ],
   "source": [
    "df_train, df_test = load_data()"
   ]
  },
  {
   "cell_type": "code",
   "execution_count": 3,
   "metadata": {},
   "outputs": [],
   "source": [
    "import pandas as pd\n",
    "import re\n",
    "\n",
    "import preprocessor as p\n",
    "from nltk.corpus import stopwords\n",
    "from nltk.tokenize import word_tokenize\n",
    "\n",
    "from string import punctuation\n",
    "from nltk.stem.snowball import EnglishStemmer\n",
    "\n",
    "p.set_options(p.OPT.URL)\n",
    "stemmer = EnglishStemmer()\n",
    "\n",
    "def text_feature_clean_fun(s):\n",
    "    s = p.clean(s)\n",
    "    \n",
    "    s = re.sub(\"[^a-zA-Z]+\", ' ', s)   # remove numbers\n",
    "    s = s.lower()\n",
    "    \n",
    "    # s = ' '.join([stemmer.stem(word) for word in s.split() if word not in (stopwords.words('english'))])\n",
    "    \n",
    "    return s\n",
    "\n",
    "\n",
    "def feature_transform(raw_feature_str_list, vectorizer, tfidf_transformer):\n",
    "    X = [text_feature_clean_fun(row)for row in raw_feature_str_list]\n",
    "    \n",
    "    X = vectorizer.transform(X)\n",
    "    X = tfidf_transformer.transform(X)\n",
    "    \n",
    "    return X"
   ]
  },
  {
   "cell_type": "code",
   "execution_count": 4,
   "metadata": {},
   "outputs": [],
   "source": [
    "df_train['text'] = df_train['text'].apply(text_feature_clean_fun)"
   ]
  },
  {
   "cell_type": "code",
   "execution_count": 5,
   "metadata": {},
   "outputs": [
    {
     "data": {
      "text/html": [
       "<div>\n",
       "<style scoped>\n",
       "    .dataframe tbody tr th:only-of-type {\n",
       "        vertical-align: middle;\n",
       "    }\n",
       "\n",
       "    .dataframe tbody tr th {\n",
       "        vertical-align: top;\n",
       "    }\n",
       "\n",
       "    .dataframe thead th {\n",
       "        text-align: right;\n",
       "    }\n",
       "</style>\n",
       "<table border=\"1\" class=\"dataframe\">\n",
       "  <thead>\n",
       "    <tr style=\"text-align: right;\">\n",
       "      <th></th>\n",
       "      <th>label</th>\n",
       "      <th>text</th>\n",
       "    </tr>\n",
       "  </thead>\n",
       "  <tbody>\n",
       "    <tr>\n",
       "      <th>0</th>\n",
       "      <td>2</td>\n",
       "      <td>lol west covina california</td>\n",
       "    </tr>\n",
       "    <tr>\n",
       "      <th>1</th>\n",
       "      <td>0</td>\n",
       "      <td>step out and explore ellis island cafe</td>\n",
       "    </tr>\n",
       "    <tr>\n",
       "      <th>2</th>\n",
       "      <td>1</td>\n",
       "      <td>my baby bear bubby s</td>\n",
       "    </tr>\n",
       "    <tr>\n",
       "      <th>3</th>\n",
       "      <td>5</td>\n",
       "      <td>rupaul s drag race bingo fun drag queens be se...</td>\n",
       "    </tr>\n",
       "    <tr>\n",
       "      <th>4</th>\n",
       "      <td>2</td>\n",
       "      <td>black history like a mufffffaaaaaka blacchyna ...</td>\n",
       "    </tr>\n",
       "  </tbody>\n",
       "</table>\n",
       "</div>"
      ],
      "text/plain": [
       "  label                                               text\n",
       "0     2                         lol west covina california\n",
       "1     0             step out and explore ellis island cafe\n",
       "2     1                               my baby bear bubby s\n",
       "3     5  rupaul s drag race bingo fun drag queens be se...\n",
       "4     2  black history like a mufffffaaaaaka blacchyna ..."
      ]
     },
     "execution_count": 5,
     "metadata": {},
     "output_type": "execute_result"
    }
   ],
   "source": [
    "df_train.head()"
   ]
  },
  {
   "cell_type": "code",
   "execution_count": 35,
   "metadata": {},
   "outputs": [
    {
     "name": "stdout",
     "output_type": "stream",
     "text": [
      "Train X shape: (374503, 1533651)\n",
      "Test X shape:  (50000, 1533651)\n"
     ]
    }
   ],
   "source": [
    "vectorizer = CountVectorizer(ngram_range=(1, 2), min_df=1)\n",
    "tfidf_transformer = TfidfTransformer(smooth_idf=False)\n",
    "\n",
    "X_train = vectorizer.fit_transform(df_train['text'])\n",
    "X_train = tfidf_transformer.fit_transform(X_train)\n",
    "\n",
    "X_test = feature_transform(df_test['text'], vectorizer, tfidf_transformer)\n",
    "\n",
    "print('Train X shape: {}'.format(X_train.shape))\n",
    "print('Test X shape:  {}'.format(X_test.shape))"
   ]
  },
  {
   "cell_type": "code",
   "execution_count": 38,
   "metadata": {},
   "outputs": [],
   "source": [
    "model = linear_model.LogisticRegression(C=10, solver='newton-cg', n_jobs=-1, verbose=True)"
   ]
  },
  {
   "cell_type": "code",
   "execution_count": 39,
   "metadata": {},
   "outputs": [
    {
     "name": "stderr",
     "output_type": "stream",
     "text": [
      "[Parallel(n_jobs=-1)]: Done  13 out of  13 | elapsed:  4.1min finished\n"
     ]
    },
    {
     "data": {
      "text/plain": [
       "LogisticRegression(C=10, class_weight=None, dual=False, fit_intercept=True,\n",
       "          intercept_scaling=1, max_iter=100, multi_class='ovr', n_jobs=-1,\n",
       "          penalty='l2', random_state=None, solver='newton-cg', tol=0.0001,\n",
       "          verbose=True, warm_start=False)"
      ]
     },
     "execution_count": 39,
     "metadata": {},
     "output_type": "execute_result"
    }
   ],
   "source": [
    "model.fit(X_train, df_train['label'])"
   ]
  },
  {
   "cell_type": "code",
   "execution_count": 40,
   "metadata": {},
   "outputs": [
    {
     "data": {
      "text/plain": [
       "0.969767932433118"
      ]
     },
     "execution_count": 40,
     "metadata": {},
     "output_type": "execute_result"
    }
   ],
   "source": [
    "model.score(X_train, df_train['label'])"
   ]
  },
  {
   "cell_type": "code",
   "execution_count": 41,
   "metadata": {},
   "outputs": [
    {
     "data": {
      "text/plain": [
       "0.35506"
      ]
     },
     "execution_count": 41,
     "metadata": {},
     "output_type": "execute_result"
    }
   ],
   "source": [
    "model.score(X_test, df_test['label'])"
   ]
  },
  {
   "cell_type": "code",
   "execution_count": 42,
   "metadata": {},
   "outputs": [
    {
     "name": "stdout",
     "output_type": "stream",
     "text": [
      "\n",
      "======> Micro scores ==> P: 0.3551,  R: 0.3551, F1: 0.3551\n",
      "\n",
      "======> Macro scores ==> P: 0.1104,  R: 0.1450, F1: 0.1223\n"
     ]
    },
    {
     "name": "stderr",
     "output_type": "stream",
     "text": [
      "/Users/fuyangliu/Workspace/deep_learning_tutorial/p3ml-venv/lib/python3.6/site-packages/sklearn/metrics/classification.py:1135: UndefinedMetricWarning: Precision and F-score are ill-defined and being set to 0.0 in labels with no predicted samples.\n",
      "  'precision', 'predicted', average, warn_for)\n"
     ]
    }
   ],
   "source": [
    "p_micro, r_micro, f1_micro, _ = \\\n",
    "    precision_recall_fscore_support(df_test['label'], model.predict(X_test), average='micro')\n",
    "p_macro, r_macro, f1_macro, _ = \\\n",
    "    precision_recall_fscore_support(df_test['label'], model.predict(X_test), average='macro')\n",
    "print('\\n======> Micro scores ==> P: {0:.4f},  R: {1:.4f}, F1: {2:.4f}'.format(p_micro, r_micro, f1_micro))\n",
    "print('\\n======> Macro scores ==> P: {0:.4f},  R: {1:.4f}, F1: {2:.4f}'.format(p_macro, r_macro, f1_macro))"
   ]
  },
  {
   "cell_type": "code",
   "execution_count": 43,
   "metadata": {},
   "outputs": [
    {
     "name": "stdout",
     "output_type": "stream",
     "text": [
      "             precision    recall  f1-score   support\n",
      "\n",
      "          0       0.45      0.80      0.57     10760\n",
      "          1       0.49      0.62      0.55      5279\n",
      "          2       0.50      0.80      0.62      5241\n",
      "          3       0.57      0.46      0.51      2885\n",
      "          4       0.03      0.03      0.03      2517\n",
      "          5       0.02      0.01      0.01      2317\n",
      "          6       0.00      0.00      0.00      2049\n",
      "          7       0.02      0.01      0.01      1894\n",
      "          8       0.00      0.00      0.00      1796\n",
      "          9       0.00      0.00      0.00      1671\n",
      "         10       0.04      0.07      0.05      1544\n",
      "         11       0.04      0.03      0.03      1528\n",
      "         12       0.01      0.01      0.01      1462\n",
      "         13       0.00      0.00      0.00      1346\n",
      "         14       0.00      0.00      0.00      1377\n",
      "         15       0.03      0.05      0.03      1249\n",
      "         16       0.00      0.00      0.00      1306\n",
      "         17       0.00      0.00      0.00      1279\n",
      "         18       0.02      0.01      0.02      1286\n",
      "         19       0.00      0.00      0.00      1214\n",
      "\n",
      "avg / total       0.24      0.36      0.28     50000\n",
      "\n"
     ]
    },
    {
     "name": "stderr",
     "output_type": "stream",
     "text": [
      "/Users/fuyangliu/Workspace/deep_learning_tutorial/p3ml-venv/lib/python3.6/site-packages/sklearn/metrics/classification.py:1135: UndefinedMetricWarning: Precision and F-score are ill-defined and being set to 0.0 in labels with no predicted samples.\n",
      "  'precision', 'predicted', average, warn_for)\n"
     ]
    }
   ],
   "source": [
    "print(classification_report(df_test['label'], model.predict(X_test)))"
   ]
  },
  {
   "cell_type": "code",
   "execution_count": 44,
   "metadata": {},
   "outputs": [
    {
     "name": "stdout",
     "output_type": "stream",
     "text": [
      "Macro F-Score (official): 12.235\n",
      "-----\n",
      "Micro F-Score: 35.506\n",
      "Precision: 35.506\n",
      "Recall: 35.506\n"
     ]
    }
   ],
   "source": [
    "res = model.predict(X_test)\n",
    "\n",
    "np.savetxt('res.txt', res, fmt='%d')\n",
    "\n",
    "%run ./scorer_semeval18.py ./us_trial.labels res.txt"
   ]
  },
  {
   "cell_type": "code",
   "execution_count": null,
   "metadata": {},
   "outputs": [],
   "source": []
  }
 ],
 "metadata": {
  "kernelspec": {
   "display_name": "Python 3",
   "language": "python",
   "name": "python3"
  },
  "language_info": {
   "codemirror_mode": {
    "name": "ipython",
    "version": 3
   },
   "file_extension": ".py",
   "mimetype": "text/x-python",
   "name": "python",
   "nbconvert_exporter": "python",
   "pygments_lexer": "ipython3",
   "version": "3.6.1"
  }
 },
 "nbformat": 4,
 "nbformat_minor": 2
}
