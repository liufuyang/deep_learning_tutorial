{
 "cells": [
  {
   "cell_type": "code",
   "execution_count": 1,
   "metadata": {},
   "outputs": [],
   "source": [
    "from utils import load_data\n",
    "\n",
    "from sklearn.feature_extraction.text import CountVectorizer\n",
    "from sklearn.feature_extraction.text import TfidfTransformer, TfidfVectorizer\n",
    "from sklearn import linear_model\n",
    "from sklearn.metrics import precision_recall_fscore_support\n",
    "from sklearn.metrics import classification_report"
   ]
  },
  {
   "cell_type": "code",
   "execution_count": 2,
   "metadata": {},
   "outputs": [
    {
     "name": "stdout",
     "output_type": "stream",
     "text": [
      "count 374503\n",
      "count \\n 374627\n",
      "374503\n"
     ]
    }
   ],
   "source": [
    "df_train, df_test = load_data()"
   ]
  },
  {
   "cell_type": "code",
   "execution_count": 3,
   "metadata": {},
   "outputs": [],
   "source": [
    "import pandas as pd\n",
    "import re\n",
    "\n",
    "import preprocessor as p\n",
    "from nltk.corpus import stopwords\n",
    "from nltk.tokenize import word_tokenize\n",
    "\n",
    "from string import punctuation\n",
    "from nltk.stem.snowball import EnglishStemmer\n",
    "\n",
    "p.set_options(p.OPT.URL)\n",
    "translator = str.maketrans(\"\", \"\", punctuation)\n",
    "stemmer = EnglishStemmer()\n",
    "\n",
    "def text_feature_clean_fun(s):\n",
    "    \n",
    "    \n",
    "    # s = re.sub(\"[^a-zA-Z]+\", ' ', s)   # remove numbers\n",
    "    # s = s.lower()\n",
    "    \n",
    "    text = ' '.join([word for word in s.split() if word not in (stopwords.words('english'))])\n",
    "    \n",
    "    # delete punctuation\n",
    "    text = word_tokenize(text.translate(translator))\n",
    "    \n",
    "    # stemming\n",
    "    text = [stemmer.stem(w) for w in text]\n",
    "    # preprocessing as tweet\n",
    "    text = p.clean(' '.join(text))\n",
    "    \n",
    "    return s"
   ]
  },
  {
   "cell_type": "code",
   "execution_count": 4,
   "metadata": {},
   "outputs": [],
   "source": [
    "df_train['text'] = df_train['text'].apply(text_feature_clean_fun)\n",
    "df_test['text'] = df_test['text'].apply(text_feature_clean_fun)"
   ]
  },
  {
   "cell_type": "code",
   "execution_count": 5,
   "metadata": {},
   "outputs": [
    {
     "data": {
      "text/html": [
       "<div>\n",
       "<style scoped>\n",
       "    .dataframe tbody tr th:only-of-type {\n",
       "        vertical-align: middle;\n",
       "    }\n",
       "\n",
       "    .dataframe tbody tr th {\n",
       "        vertical-align: top;\n",
       "    }\n",
       "\n",
       "    .dataframe thead th {\n",
       "        text-align: right;\n",
       "    }\n",
       "</style>\n",
       "<table border=\"1\" class=\"dataframe\">\n",
       "  <thead>\n",
       "    <tr style=\"text-align: right;\">\n",
       "      <th></th>\n",
       "      <th>label</th>\n",
       "      <th>text</th>\n",
       "    </tr>\n",
       "  </thead>\n",
       "  <tbody>\n",
       "    <tr>\n",
       "      <th>0</th>\n",
       "      <td>2</td>\n",
       "      <td>LoL @ West Covina, California</td>\n",
       "    </tr>\n",
       "    <tr>\n",
       "      <th>1</th>\n",
       "      <td>0</td>\n",
       "      <td>Step out and explore. # ️ @ Ellis Island Cafe</td>\n",
       "    </tr>\n",
       "    <tr>\n",
       "      <th>2</th>\n",
       "      <td>1</td>\n",
       "      <td>My baby bear @ Bubby's</td>\n",
       "    </tr>\n",
       "    <tr>\n",
       "      <th>3</th>\n",
       "      <td>5</td>\n",
       "      <td>RuPaul's Drag Race bingo fun. Drag Queens be S...</td>\n",
       "    </tr>\n",
       "    <tr>\n",
       "      <th>4</th>\n",
       "      <td>2</td>\n",
       "      <td>Black History like a Mufffffaaaaaka #blacchyna...</td>\n",
       "    </tr>\n",
       "  </tbody>\n",
       "</table>\n",
       "</div>"
      ],
      "text/plain": [
       "   label                                               text\n",
       "0      2                      LoL @ West Covina, California\n",
       "1      0      Step out and explore. # ️ @ Ellis Island Cafe\n",
       "2      1                             My baby bear @ Bubby's\n",
       "3      5  RuPaul's Drag Race bingo fun. Drag Queens be S...\n",
       "4      2  Black History like a Mufffffaaaaaka #blacchyna..."
      ]
     },
     "execution_count": 5,
     "metadata": {},
     "output_type": "execute_result"
    }
   ],
   "source": [
    "df_train.head()"
   ]
  },
  {
   "cell_type": "code",
   "execution_count": 6,
   "metadata": {},
   "outputs": [
    {
     "name": "stdout",
     "output_type": "stream",
     "text": [
      "Train X shape: (374503, 1571174)\n",
      "Test X shape:  (50000, 1571174)\n"
     ]
    }
   ],
   "source": [
    "tfidf_transformer = TfidfVectorizer(ngram_range=(1,2), min_df=1)\n",
    "\n",
    "X_train = tfidf_transformer.fit_transform(df_train['text'])\n",
    "\n",
    "X_test = tfidf_transformer.transform(df_test['text'])\n",
    "\n",
    "print('Train X shape: {}'.format(X_train.shape))\n",
    "print('Test X shape:  {}'.format(X_test.shape))"
   ]
  },
  {
   "cell_type": "code",
   "execution_count": 7,
   "metadata": {},
   "outputs": [],
   "source": [
    "model = linear_model.LogisticRegression(C=10, solver='newton-cg', n_jobs=-1)"
   ]
  },
  {
   "cell_type": "code",
   "execution_count": 8,
   "metadata": {},
   "outputs": [
    {
     "data": {
      "text/plain": [
       "LogisticRegression(C=10, class_weight=None, dual=False, fit_intercept=True,\n",
       "          intercept_scaling=1, max_iter=100, multi_class='ovr', n_jobs=-1,\n",
       "          penalty='l2', random_state=None, solver='newton-cg', tol=0.0001,\n",
       "          verbose=0, warm_start=False)"
      ]
     },
     "execution_count": 8,
     "metadata": {},
     "output_type": "execute_result"
    }
   ],
   "source": [
    "model.fit(X_train, df_train['label'])"
   ]
  },
  {
   "cell_type": "code",
   "execution_count": 9,
   "metadata": {},
   "outputs": [
    {
     "data": {
      "text/plain": [
       "0.9690523173379119"
      ]
     },
     "execution_count": 9,
     "metadata": {},
     "output_type": "execute_result"
    }
   ],
   "source": [
    "model.score(X_train, df_train['label'])"
   ]
  },
  {
   "cell_type": "code",
   "execution_count": 10,
   "metadata": {},
   "outputs": [
    {
     "data": {
      "text/plain": [
       "0.35474"
      ]
     },
     "execution_count": 10,
     "metadata": {},
     "output_type": "execute_result"
    }
   ],
   "source": [
    "model.score(X_test, df_test['label'])"
   ]
  },
  {
   "cell_type": "code",
   "execution_count": 11,
   "metadata": {},
   "outputs": [
    {
     "name": "stdout",
     "output_type": "stream",
     "text": [
      "\n",
      "======> Micro scores ==> P: 0.3547,  R: 0.3547, F1: 0.3547\n",
      "\n",
      "======> Macro scores ==> P: 0.1106,  R: 0.1449, F1: 0.1223\n"
     ]
    },
    {
     "name": "stderr",
     "output_type": "stream",
     "text": [
      "/Users/fuyangliu/Workspace/deep_learning_tutorial/p3ml-venv/lib/python3.6/site-packages/sklearn/metrics/classification.py:1135: UndefinedMetricWarning: Precision and F-score are ill-defined and being set to 0.0 in labels with no predicted samples.\n",
      "  'precision', 'predicted', average, warn_for)\n"
     ]
    }
   ],
   "source": [
    "p_micro, r_micro, f1_micro, _ = \\\n",
    "    precision_recall_fscore_support(df_test['label'], model.predict(X_test), average='micro')\n",
    "p_macro, r_macro, f1_macro, _ = \\\n",
    "    precision_recall_fscore_support(df_test['label'], model.predict(X_test), average='macro')\n",
    "print('\\n======> Micro scores ==> P: {0:.4f},  R: {1:.4f}, F1: {2:.4f}'.format(p_micro, r_micro, f1_micro))\n",
    "print('\\n======> Macro scores ==> P: {0:.4f},  R: {1:.4f}, F1: {2:.4f}'.format(p_macro, r_macro, f1_macro))"
   ]
  },
  {
   "cell_type": "code",
   "execution_count": 12,
   "metadata": {},
   "outputs": [
    {
     "name": "stdout",
     "output_type": "stream",
     "text": [
      "             precision    recall  f1-score   support\n",
      "\n",
      "          0       0.45      0.80      0.57     10760\n",
      "          1       0.49      0.62      0.55      5279\n",
      "          2       0.51      0.80      0.62      5241\n",
      "          3       0.57      0.46      0.51      2885\n",
      "          4       0.03      0.02      0.02      2517\n",
      "          5       0.01      0.01      0.01      2317\n",
      "          6       0.00      0.00      0.00      2049\n",
      "          7       0.02      0.01      0.01      1894\n",
      "          8       0.00      0.00      0.00      1796\n",
      "          9       0.00      0.00      0.00      1671\n",
      "         10       0.04      0.07      0.05      1544\n",
      "         11       0.04      0.04      0.04      1528\n",
      "         12       0.02      0.01      0.01      1462\n",
      "         13       0.00      0.00      0.00      1346\n",
      "         14       0.00      0.00      0.00      1377\n",
      "         15       0.03      0.05      0.03      1249\n",
      "         16       0.00      0.00      0.00      1306\n",
      "         17       0.00      0.00      0.00      1279\n",
      "         18       0.02      0.01      0.02      1286\n",
      "         19       0.00      0.00      0.00      1214\n",
      "\n",
      "avg / total       0.24      0.35      0.28     50000\n",
      "\n"
     ]
    },
    {
     "name": "stderr",
     "output_type": "stream",
     "text": [
      "/Users/fuyangliu/Workspace/deep_learning_tutorial/p3ml-venv/lib/python3.6/site-packages/sklearn/metrics/classification.py:1135: UndefinedMetricWarning: Precision and F-score are ill-defined and being set to 0.0 in labels with no predicted samples.\n",
      "  'precision', 'predicted', average, warn_for)\n"
     ]
    }
   ],
   "source": [
    "print(classification_report(df_test['label'], model.predict(X_test)))"
   ]
  },
  {
   "cell_type": "code",
   "execution_count": 13,
   "metadata": {},
   "outputs": [
    {
     "name": "stdout",
     "output_type": "stream",
     "text": [
      "Macro F-Score (official): 12.23\n",
      "-----\n",
      "Micro F-Score: 35.474\n",
      "Precision: 35.474\n",
      "Recall: 35.474\n"
     ]
    }
   ],
   "source": [
    "import numpy as np\n",
    "\n",
    "res = model.predict(X_test)\n",
    "\n",
    "np.savetxt('res.txt', res, fmt='%d')\n",
    "\n",
    "%run ./scorer_semeval18.py ./us_trial.labels res.txt"
   ]
  },
  {
   "cell_type": "code",
   "execution_count": null,
   "metadata": {},
   "outputs": [],
   "source": []
  }
 ],
 "metadata": {
  "kernelspec": {
   "display_name": "Python 3",
   "language": "python",
   "name": "python3"
  },
  "language_info": {
   "codemirror_mode": {
    "name": "ipython",
    "version": 3
   },
   "file_extension": ".py",
   "mimetype": "text/x-python",
   "name": "python",
   "nbconvert_exporter": "python",
   "pygments_lexer": "ipython3",
   "version": "3.6.1"
  }
 },
 "nbformat": 4,
 "nbformat_minor": 2
}
