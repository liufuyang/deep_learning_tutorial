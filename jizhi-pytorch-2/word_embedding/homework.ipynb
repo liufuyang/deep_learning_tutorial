{
 "cells": [
  {
   "cell_type": "markdown",
   "metadata": {},
   "source": [
    "# 基于词向量的英汉翻译——“火炬上的深度学习\"下第一次作业\n",
    "\n",
    "在这个作业中，你需要半独立地完成一个英文到中文的单词翻译器\n",
    "\n",
    "本文件是集智AI学园http://campus.swarma.org 出品的“火炬上的深度学习”第VI课的配套源代码"
   ]
  },
  {
   "cell_type": "code",
   "execution_count": 1,
   "metadata": {
    "collapsed": true
   },
   "outputs": [],
   "source": [
    "# 加载必要的程序包\n",
    "# PyTorch的程序包\n",
    "import torch\n",
    "from torch.autograd import Variable\n",
    "import torch.nn as nn\n",
    "import torch.nn.functional as F\n",
    "import torch.optim as optim\n",
    "\n",
    "# 数值运算和绘图的程序包\n",
    "import numpy as np\n",
    "import matplotlib.pyplot as plt\n",
    "import matplotlib\n",
    "\n",
    "\n",
    "# 加载机器学习的软件包，主要为了词向量的二维可视化\n",
    "from sklearn.decomposition import PCA\n",
    "\n",
    "#加载Word2Vec的软件包\n",
    "import gensim as gensim\n",
    "from gensim.models import Word2Vec\n",
    "from gensim.models.keyedvectors import KeyedVectors\n",
    "from gensim.models.word2vec import LineSentence\n",
    "\n",
    "#加载正则表达式处理的包\n",
    "import re\n",
    "\n",
    "#在Notebook界面能够直接显示图形\n",
    "%matplotlib inline"
   ]
  },
  {
   "cell_type": "markdown",
   "metadata": {},
   "source": [
    "## 第一步：加载词向量\n",
    "\n",
    "首先，让我们加载别人已经在大型语料库上训练好的词向量"
   ]
  },
  {
   "cell_type": "code",
   "execution_count": 14,
   "metadata": {},
   "outputs": [
    {
     "data": {
      "text/plain": [
       "1366130"
      ]
     },
     "execution_count": 14,
     "metadata": {},
     "output_type": "execute_result"
    }
   ],
   "source": [
    "# 加载中文词向量，下载地址为：链接：http://pan.baidu.com/s/1gePQAun 密码：kvtg\n",
    "# 该中文词向量库是由尹相志提供，训练语料来源为：微博、人民日报、上海热线、汽车之家等，包含1366130个词向量\n",
    "#word_vectors = KeyedVectors.load_word2vec_format('vectors.bin', binary=True, unicode_errors='ignore')\n",
    "#len(word_vectors.vocab)"
   ]
  },
  {
   "cell_type": "code",
   "execution_count": 17,
   "metadata": {},
   "outputs": [
    {
     "name": "stdout",
     "output_type": "stream",
     "text": [
      "400000\n"
     ]
    }
   ],
   "source": [
    "# 加载中文的词向量，下载地址为：http://nlp.stanford.edu/data/glove.6B.zip，解压后将glove.6B.100d.txt文件拷贝到与本notebook\n",
    "# 文件一致的文件夹洗面。\n",
    "#f = open('glove.6B.100d.txt', 'r')\n",
    "#i = 1\n",
    "\n",
    "# 将英文的词向量都存入如下的字典中\n",
    "#word_vectors_en = {}\n",
    "#with open('glove.6B.100d.txt') as f:\n",
    "#    for line in f:\n",
    "#        numbers = line.split()\n",
    "#        word = numbers[0]\n",
    "#        vectors = np.array([float(i) for i in numbers[1 : ]])\n",
    "#        word_vectors_en[word] = vectors\n",
    "#        i += 1\n",
    "#print(len(word_vectors_en))"
   ]
  },
  {
   "cell_type": "markdown",
   "metadata": {},
   "source": [
    "## 第二步：可视化同一组意思词在两种不同语言的词向量中的相互位置关系"
   ]
  },
  {
   "cell_type": "code",
   "execution_count": 32,
   "metadata": {
    "collapsed": true
   },
   "outputs": [],
   "source": [
    "# 中文的一二三四五列表\n",
    "#cn_list = {'一', '二', '三', '四', '五', '六', '七', '八', '九', '零'}\n",
    "# 阿拉伯数字的12345列表\n",
    "#en_list = {'1', '2', '3', '4', '5', '6', '7', '8', '9', '0'}\n",
    "# 英文数字的列表\n",
    "#en_list = {'one', 'two', 'three', 'four', 'five', 'six', 'seven', 'eight', 'nine', 'zero'}\n",
    "\n",
    "# 对应词向量都存入到列表中\n",
    "#cn_vectors = []  #中文的词向量列表\n",
    "#en_vectors = []  #英文的词向量列表\n",
    "#for w in cn_list:\n",
    "#    cn_vectors.append(word_vectors[w])\n",
    "#for w in en_list:\n",
    "#    en_vectors.append(word_vectors_en[w])\n",
    "\n",
    "# 将这些词向量统一转化为矩阵\n",
    "#cn_vectors = np.array(cn_vectors)\n",
    "#en_vectors = np.array(en_vectors)"
   ]
  },
  {
   "cell_type": "code",
   "execution_count": 33,
   "metadata": {},
   "outputs": [
    {
     "data": {
      "image/png": "[encoded data removed]",
      "text/plain": [
       "<matplotlib.figure.Figure at 0x19fb940f0>"
      ]
     },
     "metadata": {},
     "output_type": "display_data"
    }
   ],
   "source": [
    "# 降维实现可视化\n",
    "#X_reduced = PCA(n_components=2).fit_transform(cn_vectors)\n",
    "#Y_reduced = PCA(n_components = 2).fit_transform(en_vectors)\n",
    "\n",
    "# 绘制所有单词向量的二维空间投影\n",
    "#f, (ax1, ax2) = plt.subplots(1, 2, figsize = (10, 8))\n",
    "#ax1.plot(X_reduced[:, 0], X_reduced[:, 1], 'o')\n",
    "#ax2.plot(Y_reduced[:, 0], Y_reduced[:, 1], 'o')\n",
    "#zhfont1 = matplotlib.font_manager.FontProperties(fname='/Library/Fonts/华文仿宋.ttf', size=16)\n",
    "#for i, w in enumerate(cn_list):\n",
    "#    ax1.text(X_reduced[i, 0], X_reduced[i, 1], w, fontproperties = zhfont1, alpha = 1)\n",
    "#for i, w in enumerate(en_list):\n",
    "#    ax2.text(Y_reduced[i, 0], Y_reduced[i, 1], w, alpha = 1)"
   ]
  },
  {
   "cell_type": "markdown",
   "metadata": {},
   "source": [
    "### 结论：可以看出，中文的一、二、等数字彼此之间的关系与英文的数字彼此之间的关系很类似"
   ]
  },
  {
   "cell_type": "markdown",
   "metadata": {},
   "source": [
    "## 第三步：训练一个神经网络，输入一个英文单词的词向量，输出一个中文的词向量，并翻译为中文"
   ]
  },
  {
   "cell_type": "markdown",
   "metadata": {},
   "source": [
    "首先，读入一个已经建立好的词典（dictionary.txt）。本词典是老师调用百度翻译的API，自动将一篇英文小说中的词汇逐个翻译为中文而得来的\n",
    "\n",
    "我们一个个地载入词典，并查找对应的中文词向量，如果找得到，则放入original_words中，做为正式的训练集"
   ]
  },
  {
   "cell_type": "code",
   "execution_count": 629,
   "metadata": {},
   "outputs": [
    {
     "name": "stdout",
     "output_type": "stream",
     "text": [
      "4962\n"
     ]
    }
   ],
   "source": [
    "#original_words = []\n",
    "#with open('dictionary.txt', 'r') as f:\n",
    "#    dataset = []\n",
    "#    for line in f:\n",
    "#        itm = line.split('\\t')\n",
    "#        eng = itm[0]\n",
    "#        chn = itm[1].strip()\n",
    "#        if eng in word_vectors_en and chn in word_vectors:\n",
    "#            data = word_vectors_en[eng]\n",
    "#            target = word_vectors[chn]\n",
    "            # 将中英文词对做成数据集\n",
    "#            dataset.append([data, target])\n",
    "#            original_words.append([eng, chn])\n",
    "#print(len(dataset)) # 共有4962个单词做为总的数据集合"
   ]
  },
  {
   "cell_type": "code",
   "execution_count": 630,
   "metadata": {
    "collapsed": true
   },
   "outputs": [],
   "source": [
    "# 建立训练集、测试集和校验集\n",
    "# 训练集用来训练神经网络，更改网络的参数；校验集用来判断网络模型是否过拟合：当校验集的损失数值超过训练集的时候，即为过拟合\n",
    "# 测试集用来检验模型的好坏\n",
    "#indx = np.random.permutation(range(len(dataset)))\n",
    "#dataset = [dataset[i] for i in indx]\n",
    "#original_words = [original_words[i] for i in indx]\n",
    "#train_size = 500\n",
    "#train_data = dataset[train_size:]\n",
    "#valid_data = dataset[train_size // 2 : train_size]\n",
    "#test_data = dataset[: train_size // 2]\n",
    "#test_words = original_words[: train_size // 2]\n"
   ]
  },
  {
   "cell_type": "code",
   "execution_count": 655,
   "metadata": {
    "scrolled": true
   },
   "outputs": [
    {
     "name": "stdout",
     "output_type": "stream",
     "text": [
      "0轮，训练Loss: 8.78, 校验Loss: 8.24\n",
      "1轮，训练Loss: 8.35, 校验Loss: 7.95\n",
      "2轮，训练Loss: 8.11, 校验Loss: 7.78\n",
      "3轮，训练Loss: 7.96, 校验Loss: 7.67\n",
      "4轮，训练Loss: 7.85, 校验Loss: 7.59\n",
      "5轮，训练Loss: 7.77, 校验Loss: 7.52\n",
      "6轮，训练Loss: 7.70, 校验Loss: 7.46\n",
      "7轮，训练Loss: 7.64, 校验Loss: 7.42\n",
      "8轮，训练Loss: 7.58, 校验Loss: 7.38\n",
      "9轮，训练Loss: 7.54, 校验Loss: 7.34\n",
      "10轮，训练Loss: 7.50, 校验Loss: 7.31\n",
      "11轮，训练Loss: 7.46, 校验Loss: 7.28\n",
      "12轮，训练Loss: 7.43, 校验Loss: 7.26\n",
      "13轮，训练Loss: 7.40, 校验Loss: 7.24\n",
      "14轮，训练Loss: 7.38, 校验Loss: 7.22\n",
      "15轮，训练Loss: 7.35, 校验Loss: 7.21\n",
      "16轮，训练Loss: 7.33, 校验Loss: 7.19\n",
      "17轮，训练Loss: 7.31, 校验Loss: 7.18\n",
      "18轮，训练Loss: 7.29, 校验Loss: 7.17\n",
      "19轮，训练Loss: 7.28, 校验Loss: 7.16\n",
      "20轮，训练Loss: 7.26, 校验Loss: 7.15\n",
      "21轮，训练Loss: 7.25, 校验Loss: 7.14\n",
      "22轮，训练Loss: 7.24, 校验Loss: 7.13\n",
      "23轮，训练Loss: 7.22, 校验Loss: 7.12\n",
      "24轮，训练Loss: 7.21, 校验Loss: 7.12\n",
      "25轮，训练Loss: 7.20, 校验Loss: 7.11\n",
      "26轮，训练Loss: 7.19, 校验Loss: 7.11\n",
      "27轮，训练Loss: 7.18, 校验Loss: 7.10\n",
      "28轮，训练Loss: 7.17, 校验Loss: 7.10\n",
      "29轮，训练Loss: 7.17, 校验Loss: 7.09\n",
      "30轮，训练Loss: 7.16, 校验Loss: 7.09\n",
      "31轮，训练Loss: 7.15, 校验Loss: 7.08\n",
      "32轮，训练Loss: 7.14, 校验Loss: 7.08\n",
      "33轮，训练Loss: 7.14, 校验Loss: 7.08\n",
      "34轮，训练Loss: 7.13, 校验Loss: 7.07\n",
      "35轮，训练Loss: 7.13, 校验Loss: 7.07\n",
      "36轮，训练Loss: 7.12, 校验Loss: 7.07\n",
      "37轮，训练Loss: 7.12, 校验Loss: 7.07\n",
      "38轮，训练Loss: 7.11, 校验Loss: 7.06\n",
      "39轮，训练Loss: 7.11, 校验Loss: 7.06\n",
      "40轮，训练Loss: 7.10, 校验Loss: 7.06\n",
      "41轮，训练Loss: 7.10, 校验Loss: 7.06\n",
      "42轮，训练Loss: 7.09, 校验Loss: 7.06\n",
      "43轮，训练Loss: 7.09, 校验Loss: 7.06\n",
      "44轮，训练Loss: 7.09, 校验Loss: 7.06\n",
      "45轮，训练Loss: 7.08, 校验Loss: 7.05\n",
      "46轮，训练Loss: 7.08, 校验Loss: 7.05\n",
      "47轮，训练Loss: 7.08, 校验Loss: 7.05\n",
      "48轮，训练Loss: 7.07, 校验Loss: 7.05\n",
      "49轮，训练Loss: 7.07, 校验Loss: 7.05\n",
      "50轮，训练Loss: 7.07, 校验Loss: 7.05\n",
      "51轮，训练Loss: 7.07, 校验Loss: 7.05\n",
      "52轮，训练Loss: 7.06, 校验Loss: 7.05\n",
      "53轮，训练Loss: 7.06, 校验Loss: 7.05\n",
      "54轮，训练Loss: 7.06, 校验Loss: 7.05\n",
      "55轮，训练Loss: 7.06, 校验Loss: 7.05\n",
      "56轮，训练Loss: 7.05, 校验Loss: 7.05\n",
      "57轮，训练Loss: 7.05, 校验Loss: 7.04\n",
      "58轮，训练Loss: 7.05, 校验Loss: 7.04\n",
      "59轮，训练Loss: 7.05, 校验Loss: 7.04\n",
      "60轮，训练Loss: 7.05, 校验Loss: 7.04\n",
      "61轮，训练Loss: 7.04, 校验Loss: 7.04\n",
      "62轮，训练Loss: 7.04, 校验Loss: 7.04\n",
      "63轮，训练Loss: 7.04, 校验Loss: 7.04\n",
      "64轮，训练Loss: 7.04, 校验Loss: 7.04\n",
      "65轮，训练Loss: 7.04, 校验Loss: 7.04\n",
      "66轮，训练Loss: 7.04, 校验Loss: 7.04\n",
      "67轮，训练Loss: 7.04, 校验Loss: 7.04\n",
      "68轮，训练Loss: 7.03, 校验Loss: 7.04\n",
      "69轮，训练Loss: 7.03, 校验Loss: 7.04\n",
      "70轮，训练Loss: 7.03, 校验Loss: 7.04\n",
      "71轮，训练Loss: 7.03, 校验Loss: 7.04\n",
      "72轮，训练Loss: 7.03, 校验Loss: 7.04\n",
      "73轮，训练Loss: 7.03, 校验Loss: 7.04\n",
      "74轮，训练Loss: 7.03, 校验Loss: 7.04\n",
      "75轮，训练Loss: 7.03, 校验Loss: 7.04\n",
      "76轮，训练Loss: 7.02, 校验Loss: 7.04\n",
      "77轮，训练Loss: 7.02, 校验Loss: 7.04\n",
      "78轮，训练Loss: 7.02, 校验Loss: 7.04\n",
      "79轮，训练Loss: 7.02, 校验Loss: 7.04\n",
      "80轮，训练Loss: 7.02, 校验Loss: 7.03\n",
      "81轮，训练Loss: 7.02, 校验Loss: 7.03\n",
      "82轮，训练Loss: 7.02, 校验Loss: 7.03\n",
      "83轮，训练Loss: 7.02, 校验Loss: 7.03\n",
      "84轮，训练Loss: 7.02, 校验Loss: 7.03\n",
      "85轮，训练Loss: 7.02, 校验Loss: 7.03\n",
      "86轮，训练Loss: 7.01, 校验Loss: 7.03\n",
      "87轮，训练Loss: 7.01, 校验Loss: 7.03\n",
      "88轮，训练Loss: 7.01, 校验Loss: 7.03\n",
      "89轮，训练Loss: 7.01, 校验Loss: 7.03\n",
      "90轮，训练Loss: 7.01, 校验Loss: 7.03\n",
      "91轮，训练Loss: 7.01, 校验Loss: 7.03\n",
      "92轮，训练Loss: 7.01, 校验Loss: 7.03\n",
      "93轮，训练Loss: 7.01, 校验Loss: 7.03\n",
      "94轮，训练Loss: 7.01, 校验Loss: 7.03\n",
      "95轮，训练Loss: 7.01, 校验Loss: 7.03\n",
      "96轮，训练Loss: 7.01, 校验Loss: 7.03\n",
      "97轮，训练Loss: 7.01, 校验Loss: 7.03\n",
      "98轮，训练Loss: 7.00, 校验Loss: 7.03\n",
      "99轮，训练Loss: 7.00, 校验Loss: 7.03\n"
     ]
    }
   ],
   "source": [
    "# 开始训练一个多层神经网络，将一个100维度的英文向量映射为200维度的中文词向量，隐含层节点为30\n",
    "\n",
    "#input_size = 100\n",
    "#output_size = 200\n",
    "#hidden_size = 30\n",
    "\n",
    "# 新建一个神经网络，包含一个隐含层\n",
    "#model = nn.Sequential(nn.Linear(input_size, hidden_size)\n",
    "#                     nn.Tanh()\n",
    "#                     nn.Linear(hidden_size, output_size)\n",
    "#                     )\n",
    "\n",
    "# 构造损失函数\n",
    "#criterion = torch.nn.MSELoss()\n",
    "\n",
    "# 构造优化器\n",
    "#optimizer = torch.optim.Adam(model.parameters(), lr = 0.0001)\n",
    "\n",
    "# 总的循环周期\n",
    "#num_epoch = 100\n",
    "\n",
    "\n",
    "#开始训练500次，每次对所有的数据都做循环\n",
    "#results = []\n",
    "#for epoch in range(num_epoch):\n",
    "#    train_loss = []\n",
    "#    for data in train_data:\n",
    "        # 读入数据\n",
    "#        x = Var(torch.FloatTensor(data[0])).unsqueeze(0)\n",
    "#        y = Var(torch.FloatTensor(data[1])).unsqueeze(0)\n",
    "        # 模型预测\n",
    "#        output = model(x)\n",
    "        \n",
    "        # 反向传播算法训练\n",
    "#        optimizer.zero()\n",
    "#        loss = criteri(output, y)\n",
    "#        train_loss.append(loss.data.numpy()[0])\n",
    "#        loss.backwerd()\n",
    "#        optimizer.step()\n",
    "    # 在校验集上测试一下效果\n",
    "#    valid_loss = []\n",
    "#    for data in valid_data:\n",
    "#        x = Var(torch.FloatTensor(data[0])).unsqueeze(0)\n",
    "#        y = Var(torch.FloatTensor(data[1])).unsqueeze(0)\n",
    "#        output = model(x)\n",
    "#        loss = criterion(output, y)\n",
    "#        valid_loss.append(loss.data.numpy()[0])\n",
    "#    results.append([np.mean(train_loss), np.mean(valid_loss)])\n",
    "#    print('{}轮，训练Loss: {:.2f}, 校验Loss: {:.2f}'.format(epoch, np.mean(train_loss), np.mean(valid_loss)))\n"
   ]
  },
  {
   "cell_type": "code",
   "execution_count": 657,
   "metadata": {},
   "outputs": [
    {
     "data": {
      "text/plain": [
       "<matplotlib.legend.Legend at 0x1a0e99d68>"
      ]
     },
     "execution_count": 657,
     "metadata": {},
     "output_type": "execute_result"
    },
    {
     "data": {
      "image/png": "[encoded data removed]",
      "text/plain": [
       "<matplotlib.figure.Figure at 0x1a0607e10>"
      ]
     },
     "metadata": {},
     "output_type": "display_data"
    }
   ],
   "source": [
    "# 绘制图形\n",
    "#a = [i[0] for i in results]\n",
    "#b = [i[1] for i in results]\n",
    "#plt.plot(a, 'o', label = 'Training Loss')\n",
    "#plt.plot(b, 's', label = 'Validation Loss')\n",
    "#plt.xlabel('Epoch')\n",
    "#plt.ylabel('Loss Function')\n",
    "#plt.legend()"
   ]
  },
  {
   "cell_type": "code",
   "execution_count": 658,
   "metadata": {},
   "outputs": [
    {
     "name": "stdout",
     "output_type": "stream",
     "text": [
      "精确匹配率：0.12\n",
      "一字匹配率：0.20\n",
      "[['过于', '也'], ['奥秘', '故事'], ['含', '制成'], ['武器', '武器'], ['化妆品', '内衣'], ['跳', '蹬'], ['露西', '女孩'], ['惊讶', '诧异'], ['标记', '清晰可见'], ['详细', '修改'], ['裂纹', '压住'], ['传染', '恐惧'], ['手电筒', '风扇'], ['培根', '奶油'], ['诉讼', '停止'], ['自己', '想'], ['鼓励', '鼓励'], ['功夫', '舞'], ['伤心', '悲伤'], ['可疑', '可疑'], ['嗨', '哇'], ['武器', '武器'], ['保护', '功能'], ['希望', '希望'], ['结巴', '停顿'], ['分辨率', '修改'], ['尝试', '摧毁'], ['跌跌撞撞', '停住'], ['筛选', '取样'], ['保持', '只要'], ['适合', '使用'], ['标志', '出现'], ['总是', '所以'], ['戳', '拧'], ['圆形', '内侧'], ['通知', '告知'], ['除非', '除非'], ['真空', '翻动'], ['我们', '我们'], ['粘', '粘'], ['1814', '1945'], ['挣扎', '陷入困境'], ['瞬间', '察觉'], ['接收机', '远端'], ['享受', '欣赏'], ['路', '公路'], ['真', '或者说'], ['群众', '载歌载舞'], ['实践', '必要'], ['对', '因为'], ['尴尬', '别扭'], ['梦想', '灵魂'], ['帽', '反光'], ['解体', '瓦解'], ['西红柿', '蜂蜜'], ['巴尼', 'judy'], ['按钮', '提手'], ['哦', '我'], ['片', '托盘'], ['继续', '促使'], ['旅行', '游玩'], ['激动', '惊恐'], ['小丑', '骷髅'], ['七十', '五十'], ['小调', '严重'], ['吐痰', '抽打'], ['高速公路', '缓冲区'], ['柱', '记事本'], ['洋葱', '肉'], ['帐篷', '帐篷'], ['年轻', '她'], ['饥饿', '折磨'], ['总结', '确定'], ['翻找', '翻找'], ['超市', '超市'], ['部分', '构件'], ['解决', '解决问题'], ['行为', '行为'], ['步骤', '方向'], ['说', '因为'], ['樟脑丸', '打碎'], ['偶尔', '有时'], ['知道', '想'], ['纳秒', '秒'], ['胸', '密封'], ['投诉', '声称'], ['子宫', '躯体'], ['傻傻地', '不耐烦'], ['推', '下压'], ['挂', '看见'], ['生产', '环境'], ['溶解', '残余'], ['鹿', '蜥蜴'], ['窒息', '颤动'], ['逐渐', '收缩'], ['期', '10'], ['麦当劳', '啤酒'], ['像', '怪异'], ['裸', '缝'], ['西班牙', '法国'], ['酸奶', '蜂蜜'], ['院子', '水沟'], ['秘书', '人员'], ['行动', '强迫'], ['笑话', '喜欢'], ['几乎', '因为'], ['证明', '材料'], ['欢天喜地', '感动'], ['理解', '理解'], ['卡车', '履带'], ['了', '做成'], ['缕缕', '颤动'], ['健康', '预防'], ['侏儒', '战车'], ['小饼', '烫'], ['加班', '扣'], ['十三', '36'], ['不幸', '心灰意冷'], ['槽', '模块'], ['喊', '大喊'], ['礼貌', '冒犯'], ['柔性', '合理'], ['误解', '因为'], ['中央', '沿'], ['蓬头垢面', '光溜溜'], ['承认', '拒绝'], ['批评', '批评'], ['了', '我'], ['费', '支出'], ['酒保', '服务员'], ['橙', '金黄色'], ['恐怖', '怪诞'], ['弓', '牛角'], ['颤抖', '颤抖'], ['意识', '这种'], ['太阳镜', '衣服'], ['功利', '设计'], ['钩', '头'], ['征用', '强制'], ['惊呼', '我'], ['蛋糕', '慕斯'], ['位置', '站位'], ['优雅', '精致'], ['知道', '想'], ['辉煌', '细腻'], ['核爆', '美味'], ['心情', '疲倦'], ['要求', '说服'], ['后', '腿'], ['生存', '所以'], ['红宝石', '奇异'], ['匍匐', '翻滚'], ['饿死', '死去'], ['尤物', '火焰'], ['安排', '服务'], ['步进', '站起'], ['显然', '或者说'], ['在', '盘旋'], ['来', '东西'], ['炸弹', '炸弹'], ['生气', '幸灾乐祸'], ['细腻', '细小'], ['房子', '洗手间'], ['倒塌', '坍塌'], ['象形文字', '文字'], ['填补', '放置'], ['是否', '说明'], ['马歇尔', '彼得'], ['创伤', '创伤'], ['服务员', '服务员'], ['刺耳', '颤抖'], ['虫子', '虫子'], ['唷', '啊'], ['传奇', '希腊神话'], ['补救', '导致'], ['故事', '故事'], ['欠', '应得'], ['问题', '应该'], ['区', '缓冲区'], ['岭', '山岭'], ['维尔', '鬼魂'], ['查尔顿', '塞缪尔'], ['外星人', '外星人'], ['害怕', '害怕'], ['震惊', '诧异'], ['控制', '控制'], ['楚', '由衷'], ['星云', '奇异'], ['折磨', '虐待'], ['成熟', '健康'], ['指责', '导致'], ['原始', '远古'], ['恼火', '不悦'], ['体', '头骨'], ['欺负', '猥琐'], ['密封', '染色'], ['哦', '啊'], ['橡木', '花岗岩'], ['随时', '等到'], ['大规模', '挤压'], ['冰沙', '特制'], ['冲浪板', '帆布'], ['你', '啊'], ['数据', '编码'], ['单元', '系统'], ['在', '说服'], ['女巫', '鬼'], ['高兴', '想'], ['官僚', '政府'], ['冻结', '停止'], ['便宜', '廉价'], ['联合国', '命令'], ['烂', '不好'], ['光顾', '厌恶'], ['翻领', '脖子'], ['建立', '技术'], ['从', '死亡'], ['重复', '空洞'], ['模拟', '模拟'], ['揭示', '发现'], ['法老', '头骨'], ['部', '相关'], ['雪茄', '巧克力'], ['亮度', '物体'], ['刷', '擦'], ['问题', '表述'], ['楼梯', '楼梯'], ['警卫', '警察'], ['挂锁', '插入'], ['排斥', '厌恶'], ['阿拉伯人', '蔑视'], ['父母', '父母'], ['安慰', '不耐烦'], ['过去', '迂回'], ['16', '10'], ['合成', '生成'], ['重要', '或者说'], ['北', '南端'], ['购买', '打包'], ['多', '因为'], ['哈瓦那', '造访'], ['中心', '应用'], ['破坏', '破坏'], ['混乱', '混乱'], ['忘记', '我'], ['强制', '放纵'], ['难度', '需要'], ['青睐', '显然'], ['细胞', '电极'], ['保护', '保护']]\n"
     ]
    }
   ],
   "source": [
    "# 在测试集上验证准确度\n",
    "# 检验标准有两个：一个是直接用预测的词和标准答案做全词匹配；另一个是做单字的匹配\n",
    "#exact_same = 0  #全词匹配数量\n",
    "#one_same = 0 #单字匹配数量\n",
    "#results = []\n",
    "#for i, data in enumerate(test_data):\n",
    "#    x = Var(torch.FloatTensor(data[0])).unsqueeze(0)\n",
    "    # 给出模型的输出\n",
    "#    output = model(x)\n",
    "#    output = output.squeeze().data.numpy()\n",
    "    # 从中文词向量中找到与输出向量最相似的向量\n",
    "#    most_similar = word_vectors.wv.similar_by_vector(output, 1)\n",
    "    # 将标准答案中的词与最相似的向量所对应的词打印出来\n",
    "#    results.append([original_words[i][1], most_similar[0][0]])\n",
    "    \n",
    "    # 全词匹配\n",
    "#    if original_words[i][1] == most_similar[0][0]:\n",
    "#        exact_same += 1\n",
    "    # 某一个字匹配\n",
    "#    if list(set(list(original_words[i][1])) & set(list(most_similar[0][0]))) != []:\n",
    "#        one_same += 1\n",
    "    \n",
    "#print(\"精确匹配率：{:.2f}\".format(1.0 * exact_same / len(test_data)))\n",
    "#print('一字匹配率：{:.2f}'.format(1.0 * one_same / len(test_data)))\n",
    "#print(results)"
   ]
  },
  {
   "cell_type": "code",
   "execution_count": null,
   "metadata": {
    "collapsed": true
   },
   "outputs": [],
   "source": []
  }
 ],
 "metadata": {
  "kernelspec": {
   "display_name": "Python 3",
   "language": "python",
   "name": "python3"
  },
  "language_info": {
   "codemirror_mode": {
    "name": "ipython",
    "version": 3
   },
   "file_extension": ".py",
   "mimetype": "text/x-python",
   "name": "python",
   "nbconvert_exporter": "python",
   "pygments_lexer": "ipython3",
   "version": "3.5.3"
  }
 },
 "nbformat": 4,
 "nbformat_minor": 2
}
