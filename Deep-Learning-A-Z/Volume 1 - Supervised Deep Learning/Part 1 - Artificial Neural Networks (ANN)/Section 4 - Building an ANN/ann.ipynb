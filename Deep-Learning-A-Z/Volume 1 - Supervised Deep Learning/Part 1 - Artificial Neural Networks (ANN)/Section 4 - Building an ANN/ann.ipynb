{
 "cells": [
  {
   "cell_type": "code",
   "execution_count": 1,
   "metadata": {
    "collapsed": true
   },
   "outputs": [],
   "source": [
    "import numpy as np\n",
    "import matplotlib.pyplot as plt\n",
    "import pandas as pd\n",
    "%matplotlib inline"
   ]
  },
  {
   "cell_type": "code",
   "execution_count": 2,
   "metadata": {
    "collapsed": true
   },
   "outputs": [],
   "source": [
    "# Importing the dataset\n",
    "dataset = pd.read_csv('Churn_Modelling.csv')\n",
    "X = dataset.iloc[:, 3:13].values\n",
    "y = dataset.iloc[:, 13].values"
   ]
  },
  {
   "cell_type": "code",
   "execution_count": 3,
   "metadata": {},
   "outputs": [
    {
     "data": {
      "text/html": [
       "<div>\n",
       "<style>\n",
       "    .dataframe thead tr:only-child th {\n",
       "        text-align: right;\n",
       "    }\n",
       "\n",
       "    .dataframe thead th {\n",
       "        text-align: left;\n",
       "    }\n",
       "\n",
       "    .dataframe tbody tr th {\n",
       "        vertical-align: top;\n",
       "    }\n",
       "</style>\n",
       "<table border=\"1\" class=\"dataframe\">\n",
       "  <thead>\n",
       "    <tr style=\"text-align: right;\">\n",
       "      <th></th>\n",
       "      <th>RowNumber</th>\n",
       "      <th>CustomerId</th>\n",
       "      <th>Surname</th>\n",
       "      <th>CreditScore</th>\n",
       "      <th>Geography</th>\n",
       "      <th>Gender</th>\n",
       "      <th>Age</th>\n",
       "      <th>Tenure</th>\n",
       "      <th>Balance</th>\n",
       "      <th>NumOfProducts</th>\n",
       "      <th>HasCrCard</th>\n",
       "      <th>IsActiveMember</th>\n",
       "      <th>EstimatedSalary</th>\n",
       "      <th>Exited</th>\n",
       "    </tr>\n",
       "  </thead>\n",
       "  <tbody>\n",
       "    <tr>\n",
       "      <th>0</th>\n",
       "      <td>1</td>\n",
       "      <td>15634602</td>\n",
       "      <td>Hargrave</td>\n",
       "      <td>619</td>\n",
       "      <td>France</td>\n",
       "      <td>Female</td>\n",
       "      <td>42</td>\n",
       "      <td>2</td>\n",
       "      <td>0.00</td>\n",
       "      <td>1</td>\n",
       "      <td>1</td>\n",
       "      <td>1</td>\n",
       "      <td>101348.88</td>\n",
       "      <td>1</td>\n",
       "    </tr>\n",
       "    <tr>\n",
       "      <th>1</th>\n",
       "      <td>2</td>\n",
       "      <td>15647311</td>\n",
       "      <td>Hill</td>\n",
       "      <td>608</td>\n",
       "      <td>Spain</td>\n",
       "      <td>Female</td>\n",
       "      <td>41</td>\n",
       "      <td>1</td>\n",
       "      <td>83807.86</td>\n",
       "      <td>1</td>\n",
       "      <td>0</td>\n",
       "      <td>1</td>\n",
       "      <td>112542.58</td>\n",
       "      <td>0</td>\n",
       "    </tr>\n",
       "    <tr>\n",
       "      <th>2</th>\n",
       "      <td>3</td>\n",
       "      <td>15619304</td>\n",
       "      <td>Onio</td>\n",
       "      <td>502</td>\n",
       "      <td>France</td>\n",
       "      <td>Female</td>\n",
       "      <td>42</td>\n",
       "      <td>8</td>\n",
       "      <td>159660.80</td>\n",
       "      <td>3</td>\n",
       "      <td>1</td>\n",
       "      <td>0</td>\n",
       "      <td>113931.57</td>\n",
       "      <td>1</td>\n",
       "    </tr>\n",
       "    <tr>\n",
       "      <th>3</th>\n",
       "      <td>4</td>\n",
       "      <td>15701354</td>\n",
       "      <td>Boni</td>\n",
       "      <td>699</td>\n",
       "      <td>France</td>\n",
       "      <td>Female</td>\n",
       "      <td>39</td>\n",
       "      <td>1</td>\n",
       "      <td>0.00</td>\n",
       "      <td>2</td>\n",
       "      <td>0</td>\n",
       "      <td>0</td>\n",
       "      <td>93826.63</td>\n",
       "      <td>0</td>\n",
       "    </tr>\n",
       "    <tr>\n",
       "      <th>4</th>\n",
       "      <td>5</td>\n",
       "      <td>15737888</td>\n",
       "      <td>Mitchell</td>\n",
       "      <td>850</td>\n",
       "      <td>Spain</td>\n",
       "      <td>Female</td>\n",
       "      <td>43</td>\n",
       "      <td>2</td>\n",
       "      <td>125510.82</td>\n",
       "      <td>1</td>\n",
       "      <td>1</td>\n",
       "      <td>1</td>\n",
       "      <td>79084.10</td>\n",
       "      <td>0</td>\n",
       "    </tr>\n",
       "  </tbody>\n",
       "</table>\n",
       "</div>"
      ],
      "text/plain": [
       "   RowNumber  CustomerId   Surname  CreditScore Geography  Gender  Age  \\\n",
       "0          1    15634602  Hargrave          619    France  Female   42   \n",
       "1          2    15647311      Hill          608     Spain  Female   41   \n",
       "2          3    15619304      Onio          502    France  Female   42   \n",
       "3          4    15701354      Boni          699    France  Female   39   \n",
       "4          5    15737888  Mitchell          850     Spain  Female   43   \n",
       "\n",
       "   Tenure    Balance  NumOfProducts  HasCrCard  IsActiveMember  \\\n",
       "0       2       0.00              1          1               1   \n",
       "1       1   83807.86              1          0               1   \n",
       "2       8  159660.80              3          1               0   \n",
       "3       1       0.00              2          0               0   \n",
       "4       2  125510.82              1          1               1   \n",
       "\n",
       "   EstimatedSalary  Exited  \n",
       "0        101348.88       1  \n",
       "1        112542.58       0  \n",
       "2        113931.57       1  \n",
       "3         93826.63       0  \n",
       "4         79084.10       0  "
      ]
     },
     "execution_count": 3,
     "metadata": {},
     "output_type": "execute_result"
    }
   ],
   "source": [
    "dataset.head()"
   ]
  },
  {
   "cell_type": "code",
   "execution_count": 4,
   "metadata": {
    "collapsed": true
   },
   "outputs": [],
   "source": [
    "# Encoding categorical data\n",
    "from sklearn.preprocessing import LabelEncoder, OneHotEncoder\n",
    "labelencoder_X_1 = LabelEncoder()\n",
    "X[:, 1] = labelencoder_X_1.fit_transform(X[:, 1])\n",
    "labelencoder_X_2 = LabelEncoder()\n",
    "X[:, 2] = labelencoder_X_2.fit_transform(X[:, 2])"
   ]
  },
  {
   "cell_type": "code",
   "execution_count": 5,
   "metadata": {},
   "outputs": [
    {
     "data": {
      "text/plain": [
       "array([[619, 0, 0, 42, 2, 0.0, 1, 1, 1, 101348.88],\n",
       "       [608, 2, 0, 41, 1, 83807.86, 1, 0, 1, 112542.58],\n",
       "       [502, 0, 0, 42, 8, 159660.8, 3, 1, 0, 113931.57]], dtype=object)"
      ]
     },
     "execution_count": 5,
     "metadata": {},
     "output_type": "execute_result"
    }
   ],
   "source": [
    "X[0:3, :]"
   ]
  },
  {
   "cell_type": "code",
   "execution_count": 6,
   "metadata": {},
   "outputs": [],
   "source": [
    "onehotencoder = OneHotEncoder(categorical_features = [1])\n",
    "X = onehotencoder.fit_transform(X).toarray()"
   ]
  },
  {
   "cell_type": "code",
   "execution_count": 7,
   "metadata": {},
   "outputs": [],
   "source": [
    "# Removing dummy variable, as [1, 0, 0] can be presented as [0,0]\n",
    "X = X[:, 1:]"
   ]
  },
  {
   "cell_type": "code",
   "execution_count": 8,
   "metadata": {},
   "outputs": [
    {
     "data": {
      "text/plain": [
       "array([[  0.00000000e+00,   0.00000000e+00,   6.19000000e+02,\n",
       "          0.00000000e+00,   4.20000000e+01,   2.00000000e+00,\n",
       "          0.00000000e+00,   1.00000000e+00,   1.00000000e+00,\n",
       "          1.00000000e+00,   1.01348880e+05],\n",
       "       [  0.00000000e+00,   1.00000000e+00,   6.08000000e+02,\n",
       "          0.00000000e+00,   4.10000000e+01,   1.00000000e+00,\n",
       "          8.38078600e+04,   1.00000000e+00,   0.00000000e+00,\n",
       "          1.00000000e+00,   1.12542580e+05]])"
      ]
     },
     "execution_count": 8,
     "metadata": {},
     "output_type": "execute_result"
    }
   ],
   "source": [
    "X[0:2, :]"
   ]
  },
  {
   "cell_type": "code",
   "execution_count": 9,
   "metadata": {
    "collapsed": true
   },
   "outputs": [],
   "source": [
    "# My way to get similar data above:\n",
    "d_X = dataset.iloc[:, 3:13]\n",
    "d_y = dataset.iloc[:, 13]"
   ]
  },
  {
   "cell_type": "code",
   "execution_count": 10,
   "metadata": {
    "collapsed": true
   },
   "outputs": [],
   "source": [
    "d_X = pd.get_dummies(d_X)"
   ]
  },
  {
   "cell_type": "code",
   "execution_count": 11,
   "metadata": {},
   "outputs": [
    {
     "data": {
      "text/html": [
       "<div>\n",
       "<style>\n",
       "    .dataframe thead tr:only-child th {\n",
       "        text-align: right;\n",
       "    }\n",
       "\n",
       "    .dataframe thead th {\n",
       "        text-align: left;\n",
       "    }\n",
       "\n",
       "    .dataframe tbody tr th {\n",
       "        vertical-align: top;\n",
       "    }\n",
       "</style>\n",
       "<table border=\"1\" class=\"dataframe\">\n",
       "  <thead>\n",
       "    <tr style=\"text-align: right;\">\n",
       "      <th></th>\n",
       "      <th>CreditScore</th>\n",
       "      <th>Age</th>\n",
       "      <th>Tenure</th>\n",
       "      <th>Balance</th>\n",
       "      <th>NumOfProducts</th>\n",
       "      <th>HasCrCard</th>\n",
       "      <th>IsActiveMember</th>\n",
       "      <th>EstimatedSalary</th>\n",
       "      <th>Geography_France</th>\n",
       "      <th>Geography_Germany</th>\n",
       "      <th>Geography_Spain</th>\n",
       "      <th>Gender_Female</th>\n",
       "      <th>Gender_Male</th>\n",
       "    </tr>\n",
       "  </thead>\n",
       "  <tbody>\n",
       "    <tr>\n",
       "      <th>0</th>\n",
       "      <td>619</td>\n",
       "      <td>42</td>\n",
       "      <td>2</td>\n",
       "      <td>0.00</td>\n",
       "      <td>1</td>\n",
       "      <td>1</td>\n",
       "      <td>1</td>\n",
       "      <td>101348.88</td>\n",
       "      <td>1</td>\n",
       "      <td>0</td>\n",
       "      <td>0</td>\n",
       "      <td>1</td>\n",
       "      <td>0</td>\n",
       "    </tr>\n",
       "    <tr>\n",
       "      <th>1</th>\n",
       "      <td>608</td>\n",
       "      <td>41</td>\n",
       "      <td>1</td>\n",
       "      <td>83807.86</td>\n",
       "      <td>1</td>\n",
       "      <td>0</td>\n",
       "      <td>1</td>\n",
       "      <td>112542.58</td>\n",
       "      <td>0</td>\n",
       "      <td>0</td>\n",
       "      <td>1</td>\n",
       "      <td>1</td>\n",
       "      <td>0</td>\n",
       "    </tr>\n",
       "    <tr>\n",
       "      <th>2</th>\n",
       "      <td>502</td>\n",
       "      <td>42</td>\n",
       "      <td>8</td>\n",
       "      <td>159660.80</td>\n",
       "      <td>3</td>\n",
       "      <td>1</td>\n",
       "      <td>0</td>\n",
       "      <td>113931.57</td>\n",
       "      <td>1</td>\n",
       "      <td>0</td>\n",
       "      <td>0</td>\n",
       "      <td>1</td>\n",
       "      <td>0</td>\n",
       "    </tr>\n",
       "    <tr>\n",
       "      <th>3</th>\n",
       "      <td>699</td>\n",
       "      <td>39</td>\n",
       "      <td>1</td>\n",
       "      <td>0.00</td>\n",
       "      <td>2</td>\n",
       "      <td>0</td>\n",
       "      <td>0</td>\n",
       "      <td>93826.63</td>\n",
       "      <td>1</td>\n",
       "      <td>0</td>\n",
       "      <td>0</td>\n",
       "      <td>1</td>\n",
       "      <td>0</td>\n",
       "    </tr>\n",
       "    <tr>\n",
       "      <th>4</th>\n",
       "      <td>850</td>\n",
       "      <td>43</td>\n",
       "      <td>2</td>\n",
       "      <td>125510.82</td>\n",
       "      <td>1</td>\n",
       "      <td>1</td>\n",
       "      <td>1</td>\n",
       "      <td>79084.10</td>\n",
       "      <td>0</td>\n",
       "      <td>0</td>\n",
       "      <td>1</td>\n",
       "      <td>1</td>\n",
       "      <td>0</td>\n",
       "    </tr>\n",
       "  </tbody>\n",
       "</table>\n",
       "</div>"
      ],
      "text/plain": [
       "   CreditScore  Age  Tenure    Balance  NumOfProducts  HasCrCard  \\\n",
       "0          619   42       2       0.00              1          1   \n",
       "1          608   41       1   83807.86              1          0   \n",
       "2          502   42       8  159660.80              3          1   \n",
       "3          699   39       1       0.00              2          0   \n",
       "4          850   43       2  125510.82              1          1   \n",
       "\n",
       "   IsActiveMember  EstimatedSalary  Geography_France  Geography_Germany  \\\n",
       "0               1        101348.88                 1                  0   \n",
       "1               1        112542.58                 0                  0   \n",
       "2               0        113931.57                 1                  0   \n",
       "3               0         93826.63                 1                  0   \n",
       "4               1         79084.10                 0                  0   \n",
       "\n",
       "   Geography_Spain  Gender_Female  Gender_Male  \n",
       "0                0              1            0  \n",
       "1                1              1            0  \n",
       "2                0              1            0  \n",
       "3                0              1            0  \n",
       "4                1              1            0  "
      ]
     },
     "execution_count": 11,
     "metadata": {},
     "output_type": "execute_result"
    }
   ],
   "source": [
    "d_X.head()"
   ]
  },
  {
   "cell_type": "code",
   "execution_count": 12,
   "metadata": {},
   "outputs": [],
   "source": [
    "d_X.drop(['Geography_France', 'Gender_Female'], axis=1, inplace=True)"
   ]
  },
  {
   "cell_type": "code",
   "execution_count": 13,
   "metadata": {},
   "outputs": [
    {
     "data": {
      "text/html": [
       "<div>\n",
       "<style>\n",
       "    .dataframe thead tr:only-child th {\n",
       "        text-align: right;\n",
       "    }\n",
       "\n",
       "    .dataframe thead th {\n",
       "        text-align: left;\n",
       "    }\n",
       "\n",
       "    .dataframe tbody tr th {\n",
       "        vertical-align: top;\n",
       "    }\n",
       "</style>\n",
       "<table border=\"1\" class=\"dataframe\">\n",
       "  <thead>\n",
       "    <tr style=\"text-align: right;\">\n",
       "      <th></th>\n",
       "      <th>CreditScore</th>\n",
       "      <th>Age</th>\n",
       "      <th>Tenure</th>\n",
       "      <th>Balance</th>\n",
       "      <th>NumOfProducts</th>\n",
       "      <th>HasCrCard</th>\n",
       "      <th>IsActiveMember</th>\n",
       "      <th>EstimatedSalary</th>\n",
       "      <th>Geography_Germany</th>\n",
       "      <th>Geography_Spain</th>\n",
       "      <th>Gender_Male</th>\n",
       "    </tr>\n",
       "  </thead>\n",
       "  <tbody>\n",
       "    <tr>\n",
       "      <th>0</th>\n",
       "      <td>619</td>\n",
       "      <td>42</td>\n",
       "      <td>2</td>\n",
       "      <td>0.00</td>\n",
       "      <td>1</td>\n",
       "      <td>1</td>\n",
       "      <td>1</td>\n",
       "      <td>101348.88</td>\n",
       "      <td>0</td>\n",
       "      <td>0</td>\n",
       "      <td>0</td>\n",
       "    </tr>\n",
       "    <tr>\n",
       "      <th>1</th>\n",
       "      <td>608</td>\n",
       "      <td>41</td>\n",
       "      <td>1</td>\n",
       "      <td>83807.86</td>\n",
       "      <td>1</td>\n",
       "      <td>0</td>\n",
       "      <td>1</td>\n",
       "      <td>112542.58</td>\n",
       "      <td>0</td>\n",
       "      <td>1</td>\n",
       "      <td>0</td>\n",
       "    </tr>\n",
       "    <tr>\n",
       "      <th>2</th>\n",
       "      <td>502</td>\n",
       "      <td>42</td>\n",
       "      <td>8</td>\n",
       "      <td>159660.80</td>\n",
       "      <td>3</td>\n",
       "      <td>1</td>\n",
       "      <td>0</td>\n",
       "      <td>113931.57</td>\n",
       "      <td>0</td>\n",
       "      <td>0</td>\n",
       "      <td>0</td>\n",
       "    </tr>\n",
       "    <tr>\n",
       "      <th>3</th>\n",
       "      <td>699</td>\n",
       "      <td>39</td>\n",
       "      <td>1</td>\n",
       "      <td>0.00</td>\n",
       "      <td>2</td>\n",
       "      <td>0</td>\n",
       "      <td>0</td>\n",
       "      <td>93826.63</td>\n",
       "      <td>0</td>\n",
       "      <td>0</td>\n",
       "      <td>0</td>\n",
       "    </tr>\n",
       "    <tr>\n",
       "      <th>4</th>\n",
       "      <td>850</td>\n",
       "      <td>43</td>\n",
       "      <td>2</td>\n",
       "      <td>125510.82</td>\n",
       "      <td>1</td>\n",
       "      <td>1</td>\n",
       "      <td>1</td>\n",
       "      <td>79084.10</td>\n",
       "      <td>0</td>\n",
       "      <td>1</td>\n",
       "      <td>0</td>\n",
       "    </tr>\n",
       "  </tbody>\n",
       "</table>\n",
       "</div>"
      ],
      "text/plain": [
       "   CreditScore  Age  Tenure    Balance  NumOfProducts  HasCrCard  \\\n",
       "0          619   42       2       0.00              1          1   \n",
       "1          608   41       1   83807.86              1          0   \n",
       "2          502   42       8  159660.80              3          1   \n",
       "3          699   39       1       0.00              2          0   \n",
       "4          850   43       2  125510.82              1          1   \n",
       "\n",
       "   IsActiveMember  EstimatedSalary  Geography_Germany  Geography_Spain  \\\n",
       "0               1        101348.88                  0                0   \n",
       "1               1        112542.58                  0                1   \n",
       "2               0        113931.57                  0                0   \n",
       "3               0         93826.63                  0                0   \n",
       "4               1         79084.10                  0                1   \n",
       "\n",
       "   Gender_Male  \n",
       "0            0  \n",
       "1            0  \n",
       "2            0  \n",
       "3            0  \n",
       "4            0  "
      ]
     },
     "execution_count": 13,
     "metadata": {},
     "output_type": "execute_result"
    }
   ],
   "source": [
    "d_X.head()"
   ]
  },
  {
   "cell_type": "code",
   "execution_count": 14,
   "metadata": {},
   "outputs": [
    {
     "data": {
      "text/plain": [
       "(10000, 11)"
      ]
     },
     "execution_count": 14,
     "metadata": {},
     "output_type": "execute_result"
    }
   ],
   "source": [
    "d_X.shape"
   ]
  },
  {
   "cell_type": "code",
   "execution_count": 15,
   "metadata": {},
   "outputs": [
    {
     "data": {
      "text/plain": [
       "(10000, 11)"
      ]
     },
     "execution_count": 15,
     "metadata": {},
     "output_type": "execute_result"
    }
   ],
   "source": [
    "X.shape"
   ]
  },
  {
   "cell_type": "markdown",
   "metadata": {},
   "source": [
    "## Train Test Split"
   ]
  },
  {
   "cell_type": "code",
   "execution_count": 16,
   "metadata": {
    "collapsed": true
   },
   "outputs": [],
   "source": [
    "# Splitting the dataset into the Training set and Test set\n",
    "from sklearn.model_selection import train_test_split\n",
    "X_train, X_test, y_train, y_test = train_test_split(X, y, test_size = 0.2, random_state = 0)"
   ]
  },
  {
   "cell_type": "code",
   "execution_count": 17,
   "metadata": {
    "collapsed": true
   },
   "outputs": [],
   "source": [
    "# Try my way: remove this if things go wrong later:\n",
    "X_train, X_test, y_train, y_test = train_test_split(d_X, y, test_size = 0.2, random_state = 0)"
   ]
  },
  {
   "cell_type": "markdown",
   "metadata": {},
   "source": [
    "## Feature scaling"
   ]
  },
  {
   "cell_type": "code",
   "execution_count": 18,
   "metadata": {
    "collapsed": true
   },
   "outputs": [],
   "source": [
    "# Feature Scaling\n",
    "from sklearn.preprocessing import StandardScaler\n",
    "sc = StandardScaler()\n",
    "X_train = sc.fit_transform(X_train)\n",
    "X_test = sc.transform(X_test)"
   ]
  },
  {
   "cell_type": "markdown",
   "metadata": {},
   "source": [
    "# Part 2 - Now let's make the ANN!"
   ]
  },
  {
   "cell_type": "code",
   "execution_count": 64,
   "metadata": {},
   "outputs": [],
   "source": [
    "import keras\n",
    "from keras.models import Sequential\n",
    "from keras.layers import Dense\n",
    "\n",
    "import tensorflow as tf\n",
    "from keras.backend.tensorflow_backend import set_session\n",
    "\n",
    "# To make results reproduceable and setting gpu memory limit on tf.\n",
    "# https://github.com/fchollet/keras/issues/2280\n",
    "\n",
    "np.random.seed(123)\n",
    "tf.set_random_seed(123)\n",
    "config = tf.ConfigProto(inter_op_parallelism_threads=1)\n",
    "config.gpu_options.per_process_gpu_memory_fraction = 0.1 # in my case this setting will use around 1G memory on GPU\n",
    "set_session(tf.Session(config=config))\n",
    "\n"
   ]
  },
  {
   "cell_type": "code",
   "execution_count": 65,
   "metadata": {
    "collapsed": true
   },
   "outputs": [],
   "source": [
    "# Initialising the ANN\n",
    "classifier = Sequential()\n",
    "\n",
    "# Adding the input layer and the first hidden layer\n",
    "classifier.add(Dense(units = 6, kernel_initializer = 'uniform', activation = 'relu', input_dim = 11))\n",
    "\n",
    "# Adding the second hidden layer\n",
    "classifier.add(Dense(units = 6, kernel_initializer = 'uniform', activation = 'relu'))\n",
    "\n",
    "# Adding the output layer\n",
    "classifier.add(Dense(units = 1, kernel_initializer = 'uniform', activation = 'sigmoid'))\n",
    "\n",
    "# Compiling the ANN\n",
    "opt_adam = keras.optimizers.Adam(lr=0.001, beta_1=0.9, beta_2=0.999, epsilon=1e-08, decay=0.0) # \n",
    "classifier.compile(optimizer = 'adam', loss = 'binary_crossentropy', metrics = ['accuracy'])"
   ]
  },
  {
   "cell_type": "code",
   "execution_count": 66,
   "metadata": {},
   "outputs": [
    {
     "name": "stdout",
     "output_type": "stream",
     "text": [
      "Epoch 1/100\n",
      "8000/8000 [==============================] - 0s - loss: 0.6727 - acc: 0.7935     \n",
      "Epoch 2/100\n",
      "8000/8000 [==============================] - 0s - loss: 0.5633 - acc: 0.7960     \n",
      "Epoch 3/100\n",
      "8000/8000 [==============================] - 0s - loss: 0.4571 - acc: 0.7960     \n",
      "Epoch 4/100\n",
      "8000/8000 [==============================] - 0s - loss: 0.4407 - acc: 0.7960     \n",
      "Epoch 5/100\n",
      "8000/8000 [==============================] - 0s - loss: 0.4361 - acc: 0.7960     \n",
      "Epoch 6/100\n",
      "8000/8000 [==============================] - 0s - loss: 0.4331 - acc: 0.7960     \n",
      "Epoch 7/100\n",
      "8000/8000 [==============================] - 0s - loss: 0.4311 - acc: 0.7960     \n",
      "Epoch 8/100\n",
      "8000/8000 [==============================] - 0s - loss: 0.4296 - acc: 0.7960     \n",
      "Epoch 9/100\n",
      "8000/8000 [==============================] - 0s - loss: 0.4287 - acc: 0.7960     \n",
      "Epoch 10/100\n",
      "8000/8000 [==============================] - 0s - loss: 0.4275 - acc: 0.7960     \n",
      "Epoch 11/100\n",
      "8000/8000 [==============================] - 0s - loss: 0.4267 - acc: 0.7960     \n",
      "Epoch 12/100\n",
      "8000/8000 [==============================] - 0s - loss: 0.4256 - acc: 0.7960     \n",
      "Epoch 13/100\n",
      "8000/8000 [==============================] - 0s - loss: 0.4250 - acc: 0.7960     \n",
      "Epoch 14/100\n",
      "8000/8000 [==============================] - 0s - loss: 0.4233 - acc: 0.7960     \n",
      "Epoch 15/100\n",
      "8000/8000 [==============================] - 0s - loss: 0.4226 - acc: 0.7960     \n",
      "Epoch 16/100\n",
      "8000/8000 [==============================] - 0s - loss: 0.4213 - acc: 0.7960     \n",
      "Epoch 17/100\n",
      "8000/8000 [==============================] - 0s - loss: 0.4205 - acc: 0.7960     \n",
      "Epoch 18/100\n",
      "8000/8000 [==============================] - 0s - loss: 0.4199 - acc: 0.7960     \n",
      "Epoch 19/100\n",
      "8000/8000 [==============================] - 0s - loss: 0.4191 - acc: 0.8106     \n",
      "Epoch 20/100\n",
      "8000/8000 [==============================] - 0s - loss: 0.4186 - acc: 0.8195     \n",
      "Epoch 21/100\n",
      "8000/8000 [==============================] - 0s - loss: 0.4180 - acc: 0.8205     \n",
      "Epoch 22/100\n",
      "8000/8000 [==============================] - 0s - loss: 0.4173 - acc: 0.8229     \n",
      "Epoch 23/100\n",
      "8000/8000 [==============================] - 0s - loss: 0.4171 - acc: 0.8245     \n",
      "Epoch 24/100\n",
      "8000/8000 [==============================] - 0s - loss: 0.4162 - acc: 0.8239     \n",
      "Epoch 25/100\n",
      "8000/8000 [==============================] - 0s - loss: 0.4156 - acc: 0.8254     \n",
      "Epoch 26/100\n",
      "8000/8000 [==============================] - 0s - loss: 0.4150 - acc: 0.8260     \n",
      "Epoch 27/100\n",
      "8000/8000 [==============================] - 0s - loss: 0.4146 - acc: 0.8262     \n",
      "Epoch 28/100\n",
      "8000/8000 [==============================] - 0s - loss: 0.4142 - acc: 0.8287     \n",
      "Epoch 29/100\n",
      "8000/8000 [==============================] - 0s - loss: 0.4137 - acc: 0.8281     \n",
      "Epoch 30/100\n",
      "8000/8000 [==============================] - 0s - loss: 0.4134 - acc: 0.8302     \n",
      "Epoch 31/100\n",
      "8000/8000 [==============================] - 0s - loss: 0.4129 - acc: 0.8299     \n",
      "Epoch 32/100\n",
      "8000/8000 [==============================] - 0s - loss: 0.4125 - acc: 0.8305     \n",
      "Epoch 33/100\n",
      "8000/8000 [==============================] - 0s - loss: 0.4120 - acc: 0.8310     \n",
      "Epoch 34/100\n",
      "8000/8000 [==============================] - 0s - loss: 0.4117 - acc: 0.8306     \n",
      "Epoch 35/100\n",
      "8000/8000 [==============================] - 0s - loss: 0.4114 - acc: 0.8319     \n",
      "Epoch 36/100\n",
      "8000/8000 [==============================] - 0s - loss: 0.4109 - acc: 0.8325     \n",
      "Epoch 37/100\n",
      "8000/8000 [==============================] - 0s - loss: 0.4105 - acc: 0.8327     \n",
      "Epoch 38/100\n",
      "8000/8000 [==============================] - 0s - loss: 0.4101 - acc: 0.8339     \n",
      "Epoch 39/100\n",
      "8000/8000 [==============================] - 0s - loss: 0.4098 - acc: 0.8339     \n",
      "Epoch 40/100\n",
      "8000/8000 [==============================] - 0s - loss: 0.4094 - acc: 0.8334     \n",
      "Epoch 41/100\n",
      "8000/8000 [==============================] - 0s - loss: 0.4093 - acc: 0.8339     \n",
      "Epoch 42/100\n",
      "8000/8000 [==============================] - 0s - loss: 0.4089 - acc: 0.8340     \n",
      "Epoch 43/100\n",
      "8000/8000 [==============================] - 0s - loss: 0.4084 - acc: 0.8350     \n",
      "Epoch 44/100\n",
      "8000/8000 [==============================] - 0s - loss: 0.4082 - acc: 0.8349     \n",
      "Epoch 45/100\n",
      "8000/8000 [==============================] - 0s - loss: 0.4077 - acc: 0.8349     \n",
      "Epoch 46/100\n",
      "8000/8000 [==============================] - 0s - loss: 0.4075 - acc: 0.8347     \n",
      "Epoch 47/100\n",
      "8000/8000 [==============================] - 0s - loss: 0.4076 - acc: 0.8354     \n",
      "Epoch 48/100\n",
      "8000/8000 [==============================] - 0s - loss: 0.4071 - acc: 0.8349     \n",
      "Epoch 49/100\n",
      "8000/8000 [==============================] - 0s - loss: 0.4068 - acc: 0.8345     \n",
      "Epoch 50/100\n",
      "8000/8000 [==============================] - 0s - loss: 0.4067 - acc: 0.8337     \n",
      "Epoch 51/100\n",
      "8000/8000 [==============================] - 0s - loss: 0.4065 - acc: 0.8346     \n",
      "Epoch 52/100\n",
      "8000/8000 [==============================] - 0s - loss: 0.4060 - acc: 0.8342     \n",
      "Epoch 53/100\n",
      "8000/8000 [==============================] - 0s - loss: 0.4059 - acc: 0.8349     \n",
      "Epoch 54/100\n",
      "8000/8000 [==============================] - 0s - loss: 0.4056 - acc: 0.8347     \n",
      "Epoch 55/100\n",
      "8000/8000 [==============================] - 0s - loss: 0.4055 - acc: 0.8349     \n",
      "Epoch 56/100\n",
      "8000/8000 [==============================] - 0s - loss: 0.4052 - acc: 0.8345     \n",
      "Epoch 57/100\n",
      "8000/8000 [==============================] - 0s - loss: 0.4050 - acc: 0.8346     \n",
      "Epoch 58/100\n",
      "8000/8000 [==============================] - 0s - loss: 0.4049 - acc: 0.8352     \n",
      "Epoch 59/100\n",
      "8000/8000 [==============================] - 0s - loss: 0.4044 - acc: 0.8351     \n",
      "Epoch 60/100\n",
      "8000/8000 [==============================] - 0s - loss: 0.4047 - acc: 0.8346     \n",
      "Epoch 61/100\n",
      "8000/8000 [==============================] - 0s - loss: 0.4043 - acc: 0.8351     \n",
      "Epoch 62/100\n",
      "8000/8000 [==============================] - 0s - loss: 0.4041 - acc: 0.8346     \n",
      "Epoch 63/100\n",
      "8000/8000 [==============================] - 0s - loss: 0.4039 - acc: 0.8351     \n",
      "Epoch 64/100\n",
      "8000/8000 [==============================] - 0s - loss: 0.4041 - acc: 0.8337     \n",
      "Epoch 65/100\n",
      "8000/8000 [==============================] - 0s - loss: 0.4036 - acc: 0.8349     \n",
      "Epoch 66/100\n",
      "8000/8000 [==============================] - 0s - loss: 0.4035 - acc: 0.8349     \n",
      "Epoch 67/100\n",
      "8000/8000 [==============================] - 0s - loss: 0.4032 - acc: 0.8352     \n",
      "Epoch 68/100\n",
      "8000/8000 [==============================] - 0s - loss: 0.4033 - acc: 0.8359     \n",
      "Epoch 69/100\n",
      "8000/8000 [==============================] - 0s - loss: 0.4030 - acc: 0.8345     \n",
      "Epoch 70/100\n",
      "8000/8000 [==============================] - 0s - loss: 0.4030 - acc: 0.8356     \n",
      "Epoch 71/100\n",
      "8000/8000 [==============================] - 0s - loss: 0.4026 - acc: 0.8344     \n",
      "Epoch 72/100\n",
      "8000/8000 [==============================] - 0s - loss: 0.4029 - acc: 0.8356     \n",
      "Epoch 73/100\n",
      "8000/8000 [==============================] - 0s - loss: 0.4027 - acc: 0.8350     \n",
      "Epoch 74/100\n",
      "8000/8000 [==============================] - 0s - loss: 0.4024 - acc: 0.8356     \n",
      "Epoch 75/100\n",
      "8000/8000 [==============================] - 0s - loss: 0.4023 - acc: 0.8351     \n",
      "Epoch 76/100\n",
      "8000/8000 [==============================] - 0s - loss: 0.4019 - acc: 0.8346     \n",
      "Epoch 77/100\n",
      "8000/8000 [==============================] - 0s - loss: 0.4019 - acc: 0.8344     \n",
      "Epoch 78/100\n",
      "8000/8000 [==============================] - 0s - loss: 0.4020 - acc: 0.8357     \n",
      "Epoch 79/100\n",
      "8000/8000 [==============================] - 0s - loss: 0.4021 - acc: 0.8352     \n",
      "Epoch 80/100\n",
      "8000/8000 [==============================] - 0s - loss: 0.4018 - acc: 0.8355     \n",
      "Epoch 81/100\n",
      "8000/8000 [==============================] - 0s - loss: 0.4015 - acc: 0.8360     \n",
      "Epoch 82/100\n",
      "8000/8000 [==============================] - 0s - loss: 0.4014 - acc: 0.8347     \n",
      "Epoch 83/100\n",
      "8000/8000 [==============================] - 0s - loss: 0.4015 - acc: 0.8351     \n",
      "Epoch 84/100\n",
      "8000/8000 [==============================] - 0s - loss: 0.4014 - acc: 0.8355     \n",
      "Epoch 85/100\n",
      "8000/8000 [==============================] - 0s - loss: 0.4012 - acc: 0.8360     \n",
      "Epoch 86/100\n",
      "8000/8000 [==============================] - 0s - loss: 0.4012 - acc: 0.8356     \n",
      "Epoch 87/100\n"
     ]
    },
    {
     "name": "stdout",
     "output_type": "stream",
     "text": [
      "8000/8000 [==============================] - 0s - loss: 0.4010 - acc: 0.8360     \n",
      "Epoch 88/100\n",
      "8000/8000 [==============================] - 0s - loss: 0.4010 - acc: 0.8351     \n",
      "Epoch 89/100\n",
      "8000/8000 [==============================] - 0s - loss: 0.4010 - acc: 0.8351     \n",
      "Epoch 90/100\n",
      "8000/8000 [==============================] - 0s - loss: 0.4008 - acc: 0.8356     \n",
      "Epoch 91/100\n",
      "8000/8000 [==============================] - 0s - loss: 0.4006 - acc: 0.8359     \n",
      "Epoch 92/100\n",
      "8000/8000 [==============================] - 0s - loss: 0.4006 - acc: 0.8359     \n",
      "Epoch 93/100\n",
      "8000/8000 [==============================] - 0s - loss: 0.4004 - acc: 0.8352     \n",
      "Epoch 94/100\n",
      "8000/8000 [==============================] - 0s - loss: 0.4005 - acc: 0.8361     \n",
      "Epoch 95/100\n",
      "8000/8000 [==============================] - 0s - loss: 0.4005 - acc: 0.8364     \n",
      "Epoch 96/100\n",
      "8000/8000 [==============================] - 0s - loss: 0.4005 - acc: 0.8350     \n",
      "Epoch 97/100\n",
      "8000/8000 [==============================] - 0s - loss: 0.4005 - acc: 0.8349     \n",
      "Epoch 98/100\n",
      "8000/8000 [==============================] - 0s - loss: 0.4001 - acc: 0.8350     \n",
      "Epoch 99/100\n",
      "8000/8000 [==============================] - 0s - loss: 0.4000 - acc: 0.8356     \n",
      "Epoch 100/100\n",
      "8000/8000 [==============================] - 0s - loss: 0.4001 - acc: 0.8369     \n"
     ]
    },
    {
     "data": {
      "text/plain": [
       "<keras.callbacks.History at 0x7f0cda198128>"
      ]
     },
     "execution_count": 66,
     "metadata": {},
     "output_type": "execute_result"
    }
   ],
   "source": [
    "# Fitting the ANN to the Training set\n",
    "classifier.fit(X_train, y_train, batch_size = 100, epochs = 100, verbose=True)"
   ]
  },
  {
   "cell_type": "markdown",
   "metadata": {},
   "source": [
    "# Part 3 - Making predictions and evaluating the model"
   ]
  },
  {
   "cell_type": "code",
   "execution_count": 67,
   "metadata": {
    "collapsed": true
   },
   "outputs": [],
   "source": [
    "# Predicting the Test set results\n",
    "y_pred_pro = classifier.predict(X_test)\n",
    "y_pred = (y_pred_pro > 0.5)"
   ]
  },
  {
   "cell_type": "code",
   "execution_count": 68,
   "metadata": {
    "collapsed": true
   },
   "outputs": [],
   "source": [
    "# Making the Confusion Matrix\n",
    "from sklearn.metrics import confusion_matrix\n",
    "cm = confusion_matrix(y_test, y_pred)"
   ]
  },
  {
   "cell_type": "code",
   "execution_count": 69,
   "metadata": {},
   "outputs": [
    {
     "data": {
      "text/plain": [
       "0.84299999999999997"
      ]
     },
     "execution_count": 69,
     "metadata": {},
     "output_type": "execute_result"
    }
   ],
   "source": [
    "from sklearn.metrics import accuracy_score, roc_auc_score\n",
    "\n",
    "accuracy_score(y_test, y_pred)"
   ]
  },
  {
   "cell_type": "code",
   "execution_count": 70,
   "metadata": {},
   "outputs": [
    {
     "data": {
      "text/plain": [
       "0.79844421223731565"
      ]
     },
     "execution_count": 70,
     "metadata": {},
     "output_type": "execute_result"
    }
   ],
   "source": [
    "roc_auc_score(y_test, y_pred_pro, average='macro')"
   ]
  },
  {
   "cell_type": "code",
   "execution_count": 71,
   "metadata": {},
   "outputs": [
    {
     "data": {
      "text/plain": [
       "0.79844421223731565"
      ]
     },
     "execution_count": 71,
     "metadata": {},
     "output_type": "execute_result"
    }
   ],
   "source": [
    "roc_auc_score(y_test, y_pred_pro, average='micro')"
   ]
  },
  {
   "cell_type": "markdown",
   "metadata": {},
   "source": [
    "## Use the model as if we have a new customer"
   ]
  },
  {
   "cell_type": "code",
   "execution_count": 33,
   "metadata": {},
   "outputs": [],
   "source": [
    "new_customer = np.array([[600, 40, 3, 6000, 2, 1, 1, 50000,0, 0, 1]], dtype='float')\n",
    "new_customer = sc.transform(new_customer)"
   ]
  },
  {
   "cell_type": "code",
   "execution_count": 34,
   "metadata": {},
   "outputs": [
    {
     "data": {
      "text/plain": [
       "array([[-0.52111599,  0.10961719, -0.68538967, -1.11983631,  0.8095029 ,\n",
       "         0.64259497,  0.9687384 , -0.87203322, -0.5698444 , -0.57369368,\n",
       "         0.91601335]])"
      ]
     },
     "execution_count": 34,
     "metadata": {},
     "output_type": "execute_result"
    }
   ],
   "source": [
    "new_customer"
   ]
  },
  {
   "cell_type": "code",
   "execution_count": 35,
   "metadata": {},
   "outputs": [],
   "source": [
    "new_customer_pre = classifier.predict(new_customer)"
   ]
  },
  {
   "cell_type": "code",
   "execution_count": 69,
   "metadata": {},
   "outputs": [
    {
     "data": {
      "text/plain": [
       "array([False], dtype=bool)"
      ]
     },
     "execution_count": 69,
     "metadata": {},
     "output_type": "execute_result"
    }
   ],
   "source": [
    "new_customer_pre[0] > 0.5"
   ]
  },
  {
   "cell_type": "markdown",
   "metadata": {},
   "source": [
    "## Using CV to evaluate"
   ]
  },
  {
   "cell_type": "code",
   "execution_count": 38,
   "metadata": {},
   "outputs": [],
   "source": [
    "# Evaluating the ANN\n",
    "from keras.wrappers.scikit_learn import KerasClassifier\n",
    "from sklearn.model_selection import cross_val_score\n",
    "from keras.models import Sequential\n",
    "from keras.layers import Dense\n",
    "from keras.layers import Dropout\n",
    "\n",
    "def build_classifier():\n",
    "    classifier = Sequential()\n",
    "    classifier.add(Dense(units = 6, kernel_initializer = 'uniform', activation = 'relu', input_dim = 11))\n",
    "    classifier.add(Dropout(0.3))\n",
    "    classifier.add(Dense(units = 6, kernel_initializer = 'uniform', activation = 'relu'))\n",
    "    # classifier.add(Dropout(0.3))\n",
    "    classifier.add(Dense(units = 1, kernel_initializer = 'uniform', activation = 'sigmoid'))\n",
    "    classifier.compile(optimizer = 'adam', loss = 'binary_crossentropy', metrics = ['accuracy'])\n",
    "    return classifier\n",
    "classifier = KerasClassifier(build_fn = build_classifier, batch_size = 100, epochs = 100, verbose=0)\n",
    "accuracies = cross_val_score(estimator = classifier, X = X_train, y = y_train, cv = 10, n_jobs = 1)\n",
    "mean = accuracies.mean()\n",
    "variance = accuracies.std()"
   ]
  },
  {
   "cell_type": "code",
   "execution_count": 39,
   "metadata": {},
   "outputs": [
    {
     "data": {
      "text/plain": [
       "0.83437499627470968"
      ]
     },
     "execution_count": 39,
     "metadata": {},
     "output_type": "execute_result"
    }
   ],
   "source": [
    "mean"
   ]
  },
  {
   "cell_type": "code",
   "execution_count": 40,
   "metadata": {},
   "outputs": [
    {
     "data": {
      "text/plain": [
       "0.010250767245527004"
      ]
     },
     "execution_count": 40,
     "metadata": {},
     "output_type": "execute_result"
    }
   ],
   "source": [
    "variance"
   ]
  },
  {
   "cell_type": "markdown",
   "metadata": {},
   "source": [
    "## Parameter Turning"
   ]
  },
  {
   "cell_type": "code",
   "execution_count": null,
   "metadata": {
    "collapsed": true
   },
   "outputs": [],
   "source": [
    "# Tuning the ANN\n",
    "from keras.wrappers.scikit_learn import KerasClassifier\n",
    "from sklearn.model_selection import GridSearchCV\n",
    "from keras.models import Sequential\n",
    "from keras.layers import Dense\n",
    "def build_classifier(optimizer):\n",
    "    classifier = Sequential()\n",
    "    classifier.add(Dense(units = 6, kernel_initializer = 'uniform', activation = 'relu', input_dim = 11))\n",
    "    classifier.add(Dense(units = 6, kernel_initializer = 'uniform', activation = 'relu'))\n",
    "    classifier.add(Dense(units = 1, kernel_initializer = 'uniform', activation = 'sigmoid'))\n",
    "    classifier.compile(optimizer = optimizer, loss = 'binary_crossentropy', metrics = ['accuracy'])\n",
    "    return classifier\n",
    "classifier = KerasClassifier(build_fn = build_classifier, verbose=0)\n",
    "\n",
    "\n",
    "parameters = {'batch_size': [5, 25, 32, 50],\n",
    "              'epochs': [50, 100, 500],\n",
    "              'optimizer': ['adam', 'rmsprop']}\n",
    "grid_search = GridSearchCV(estimator = classifier,\n",
    "                           param_grid = parameters,\n",
    "                           scoring = 'accuracy',\n",
    "                           cv = 10, n_jobs=1, verbose=10 )\n",
    "grid_search = grid_search.fit(X_train, y_train)\n",
    "\n",
    "print(grid_search.best_params_)\n",
    "print(grid_search.best_score_)"
   ]
  },
  {
   "cell_type": "code",
   "execution_count": null,
   "metadata": {
    "collapsed": true
   },
   "outputs": [],
   "source": []
  }
 ],
 "metadata": {
  "kernelspec": {
   "display_name": "Python 3",
   "language": "python",
   "name": "python3"
  },
  "language_info": {
   "codemirror_mode": {
    "name": "ipython",
    "version": 3
   },
   "file_extension": ".py",
   "mimetype": "text/x-python",
   "name": "python",
   "nbconvert_exporter": "python",
   "pygments_lexer": "ipython3",
   "version": "3.6.1+"
  }
 },
 "nbformat": 4,
 "nbformat_minor": 2
}
