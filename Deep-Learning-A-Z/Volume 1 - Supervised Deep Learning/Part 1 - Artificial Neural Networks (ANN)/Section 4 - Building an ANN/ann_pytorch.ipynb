{
 "cells": [
  {
   "cell_type": "code",
   "execution_count": 2,
   "metadata": {
    "collapsed": true
   },
   "outputs": [],
   "source": [
    "import numpy as np\n",
    "import matplotlib.pyplot as plt\n",
    "import pandas as pd\n",
    "%matplotlib inline\n",
    "\n",
    "from sklearn.model_selection import train_test_split"
   ]
  },
  {
   "cell_type": "code",
   "execution_count": 3,
   "metadata": {
    "collapsed": true
   },
   "outputs": [],
   "source": [
    "dataset = pd.read_csv('Churn_Modelling.csv')\n",
    "d_X = dataset.iloc[:, 3:13]\n",
    "d_y = dataset.iloc[:, 13]\n",
    "d_X = pd.get_dummies(d_X)\n",
    "d_X.drop(['Geography_France', 'Gender_Female'], axis=1, inplace=True)"
   ]
  },
  {
   "cell_type": "code",
   "execution_count": 4,
   "metadata": {},
   "outputs": [],
   "source": [
    "X_train, X_test, y_train, y_test = train_test_split(d_X, d_y, test_size = 0.2, random_state = 0)\n",
    "\n",
    "# Feature Scaling\n",
    "from sklearn.preprocessing import StandardScaler\n",
    "sc = StandardScaler()\n",
    "X_train = sc.fit_transform(X_train)\n",
    "X_test = sc.transform(X_test)"
   ]
  },
  {
   "cell_type": "code",
   "execution_count": 4,
   "metadata": {
    "collapsed": true
   },
   "outputs": [],
   "source": [
    "import torch\n",
    "import torch.nn as nn\n",
    "import torch.nn.functional as F\n",
    "from torch.autograd import Variable\n",
    "import torch.utils.data as Data\n",
    "import torchvision"
   ]
  },
  {
   "cell_type": "code",
   "execution_count": 5,
   "metadata": {
    "collapsed": true
   },
   "outputs": [],
   "source": [
    "EPOCH = 100\n",
    "BATCH_SIZE = 10\n",
    "LR = 0.001"
   ]
  },
  {
   "cell_type": "code",
   "execution_count": 35,
   "metadata": {},
   "outputs": [],
   "source": [
    "torch_net = torch.nn.Sequential(\n",
    "    torch.nn.Linear(11, 6),\n",
    "    torch.nn.ReLU(),\n",
    "    torch.nn.Linear(6, 2),\n",
    "    torch.nn.ReLU(),\n",
    ")"
   ]
  },
  {
   "cell_type": "code",
   "execution_count": 36,
   "metadata": {},
   "outputs": [],
   "source": [
    "t_x_train = torch.from_numpy(X_train).float()\n",
    "t_y_train = torch.from_numpy(y_train.as_matrix()).long()\n",
    "t_x_test = torch.from_numpy(X_test).float()\n",
    "t_y_test = torch.from_numpy(y_test.as_matrix()).long()\n",
    "\n",
    "torch_dataset = Data.TensorDataset(data_tensor=t_x_train, target_tensor=t_y_train)\n",
    "train_loader = Data.DataLoader(\n",
    "    dataset=torch_dataset,\n",
    "    batch_size=BATCH_SIZE, \n",
    "    shuffle=True)"
   ]
  },
  {
   "cell_type": "code",
   "execution_count": 37,
   "metadata": {},
   "outputs": [],
   "source": [
    "# To use GPU\n",
    "v_x_test = Variable(t_x_test).cuda()\n",
    "t_y_test = t_y_test.cuda()"
   ]
  },
  {
   "cell_type": "code",
   "execution_count": 38,
   "metadata": {},
   "outputs": [
    {
     "data": {
      "text/plain": [
       "Sequential (\n",
       "  (0): Linear (11 -> 6)\n",
       "  (1): ReLU ()\n",
       "  (2): Linear (6 -> 2)\n",
       "  (3): ReLU ()\n",
       ")"
      ]
     },
     "execution_count": 38,
     "metadata": {},
     "output_type": "execute_result"
    }
   ],
   "source": [
    "torch_net.cuda()"
   ]
  },
  {
   "cell_type": "code",
   "execution_count": 39,
   "metadata": {},
   "outputs": [],
   "source": [
    "optimizer = torch.optim.Adam(torch_net.parameters(), lr=LR)\n",
    "loss_func = nn.CrossEntropyLoss()\n",
    "\n",
    "losses_his = []"
   ]
  },
  {
   "cell_type": "code",
   "execution_count": 40,
   "metadata": {},
   "outputs": [
    {
     "name": "stdout",
     "output_type": "stream",
     "text": [
      "Epoch:  0 | train loss: 1.0014 | test accuracy: 0.2025\n",
      "Epoch:  0 | train loss: 0.6102 | test accuracy: 0.7980\n",
      "Epoch:  10 | train loss: 0.6584 | test accuracy: 0.8635\n",
      "Epoch:  10 | train loss: 0.4041 | test accuracy: 0.8650\n",
      "Epoch:  20 | train loss: 0.3159 | test accuracy: 0.8630\n",
      "Epoch:  20 | train loss: 0.2007 | test accuracy: 0.8600\n",
      "Epoch:  30 | train loss: 0.1843 | test accuracy: 0.8585\n",
      "Epoch:  30 | train loss: 0.3283 | test accuracy: 0.8615\n",
      "Epoch:  40 | train loss: 0.6404 | test accuracy: 0.8625\n",
      "Epoch:  40 | train loss: 0.6092 | test accuracy: 0.8615\n",
      "Epoch:  50 | train loss: 0.1515 | test accuracy: 0.8590\n",
      "Epoch:  50 | train loss: 0.3402 | test accuracy: 0.8575\n",
      "Epoch:  60 | train loss: 0.1847 | test accuracy: 0.8590\n",
      "Epoch:  60 | train loss: 0.1209 | test accuracy: 0.8610\n",
      "Epoch:  70 | train loss: 0.4144 | test accuracy: 0.8590\n",
      "Epoch:  70 | train loss: 0.3169 | test accuracy: 0.8595\n",
      "Epoch:  80 | train loss: 0.4479 | test accuracy: 0.8610\n",
      "Epoch:  80 | train loss: 0.4547 | test accuracy: 0.8590\n",
      "Epoch:  90 | train loss: 0.3526 | test accuracy: 0.8605\n",
      "Epoch:  90 | train loss: 0.0960 | test accuracy: 0.8610\n"
     ]
    }
   ],
   "source": [
    "for epoch in range(EPOCH):\n",
    "    for step, (x, y) in enumerate(train_loader):\n",
    "\n",
    "        # !!!!!!!! Change in here !!!!!!!!! #\n",
    "        b_x = Variable(x).cuda()    # Tensor on GPU\n",
    "        b_y = Variable(y).cuda()    # Tensor on GPU\n",
    "\n",
    "        output = torch_net(b_x)\n",
    "        loss = loss_func(output, b_y)\n",
    "        losses_his.append(loss.data[0])\n",
    "        \n",
    "        optimizer.zero_grad()\n",
    "        loss.backward()\n",
    "        optimizer.step()\n",
    "\n",
    "        if epoch % 10 == 0 and step % 500 == 0:\n",
    "            test_output = torch_net(v_x_test)\n",
    "\n",
    "            # !!!!!!!! Change in here !!!!!!!!! #\n",
    "            pred_y = torch.max(F.softmax(test_output), 1)[1].cuda().data.squeeze()  # move the computation in GPU\n",
    "\n",
    "            accuracy = sum(pred_y == t_y_test) / t_y_test.size(0)\n",
    "            print('Epoch: ', epoch, '| train loss: %.4f' % loss.data[0], '| test accuracy: %.4f' % accuracy)"
   ]
  },
  {
   "cell_type": "code",
   "execution_count": 20,
   "metadata": {
    "collapsed": true
   },
   "outputs": [],
   "source": [
    " test_output = torch_net(v_x_test)"
   ]
  },
  {
   "cell_type": "code",
   "execution_count": 29,
   "metadata": {},
   "outputs": [],
   "source": [
    "test_output_pro = F.softmax(test_output)[:,1].data.cpu().numpy()"
   ]
  },
  {
   "cell_type": "code",
   "execution_count": 32,
   "metadata": {},
   "outputs": [
    {
     "data": {
      "text/plain": [
       "0.85999999999999999"
      ]
     },
     "execution_count": 32,
     "metadata": {},
     "output_type": "execute_result"
    }
   ],
   "source": [
    "from sklearn.metrics import accuracy_score, roc_auc_score\n",
    "\n",
    "accuracy_score(t_y_test.cpu().numpy(), test_output_pro>0.5)"
   ]
  },
  {
   "cell_type": "code",
   "execution_count": 33,
   "metadata": {},
   "outputs": [
    {
     "data": {
      "text/plain": [
       "0.86801346801346813"
      ]
     },
     "execution_count": 33,
     "metadata": {},
     "output_type": "execute_result"
    }
   ],
   "source": [
    "roc_auc_score(y_test, test_output_pro, average='macro')"
   ]
  },
  {
   "cell_type": "markdown",
   "metadata": {},
   "source": [
    "## Use the model as if we have a new customer"
   ]
  },
  {
   "cell_type": "code",
   "execution_count": 41,
   "metadata": {
    "collapsed": true
   },
   "outputs": [],
   "source": [
    "new_customer = np.array([[600, 40, 3, 6000, 2, 1, 1, 50000,0, 0, 1]], dtype='float')\n",
    "new_customer = sc.transform(new_customer)"
   ]
  },
  {
   "cell_type": "code",
   "execution_count": 42,
   "metadata": {
    "collapsed": true
   },
   "outputs": [],
   "source": [
    "new_customer = torch.from_numpy(new_customer).float()\n",
    "new_customer = Variable(new_customer).cuda()"
   ]
  },
  {
   "cell_type": "code",
   "execution_count": 43,
   "metadata": {
    "collapsed": true
   },
   "outputs": [],
   "source": [
    "new_customer_pre = torch_net(new_customer)"
   ]
  },
  {
   "cell_type": "code",
   "execution_count": 50,
   "metadata": {},
   "outputs": [
    {
     "data": {
      "text/plain": [
       "array([[ 0.98490518,  0.01509479]], dtype=float32)"
      ]
     },
     "execution_count": 50,
     "metadata": {},
     "output_type": "execute_result"
    }
   ],
   "source": [
    "F.softmax(new_customer_pre).data.cpu().numpy()"
   ]
  },
  {
   "cell_type": "code",
   "execution_count": null,
   "metadata": {
    "collapsed": true
   },
   "outputs": [],
   "source": []
  },
  {
   "cell_type": "code",
   "execution_count": 6,
   "metadata": {},
   "outputs": [
    {
     "name": "stdout",
     "output_type": "stream",
     "text": [
      "0.863622726559\n"
     ]
    }
   ],
   "source": [
    "from xgboost import XGBClassifier\n",
    "from sklearn.model_selection import cross_val_score\n",
    "model = XGBClassifier(max_depth=6, learning_rate=0.12, n_estimators=14, objective=\"binary:logistic\", subsample=0.6, seed=0)\n",
    "scores = cross_val_score(model, X_train, y_train, cv=10, scoring=\"accuracy\")\n",
    "print(scores.mean())"
   ]
  },
  {
   "cell_type": "code",
   "execution_count": 7,
   "metadata": {},
   "outputs": [
    {
     "name": "stdout",
     "output_type": "stream",
     "text": [
      "0.00783351561497\n"
     ]
    }
   ],
   "source": [
    "print(np.std(scores))"
   ]
  },
  {
   "cell_type": "code",
   "execution_count": 8,
   "metadata": {},
   "outputs": [
    {
     "data": {
      "text/plain": [
       "array([ 0.87640449,  0.8576779 ,  0.87375   ,  0.87      ,  0.86125   ,\n",
       "        0.8575    ,  0.8675    ,  0.85625   ,  0.85106383,  0.86483104])"
      ]
     },
     "execution_count": 8,
     "metadata": {},
     "output_type": "execute_result"
    }
   ],
   "source": [
    "scores"
   ]
  },
  {
   "cell_type": "code",
   "execution_count": null,
   "metadata": {
    "collapsed": true
   },
   "outputs": [],
   "source": []
  }
 ],
 "metadata": {
  "kernelspec": {
   "display_name": "Python 3",
   "language": "python",
   "name": "python3"
  },
  "language_info": {
   "codemirror_mode": {
    "name": "ipython",
    "version": 3
   },
   "file_extension": ".py",
   "mimetype": "text/x-python",
   "name": "python",
   "nbconvert_exporter": "python",
   "pygments_lexer": "ipython3",
   "version": "3.6.1+"
  }
 },
 "nbformat": 4,
 "nbformat_minor": 2
}
